{
 "cells": [
  {
   "cell_type": "code",
   "execution_count": 1,
   "metadata": {
    "collapsed": true
   },
   "outputs": [],
   "source": [
    "import numpy as np"
   ]
  },
  {
   "cell_type": "code",
   "execution_count": 2,
   "metadata": {
    "collapsed": true
   },
   "outputs": [],
   "source": [
    "import pandas as pd"
   ]
  },
  {
   "cell_type": "code",
   "execution_count": 3,
   "metadata": {
    "collapsed": true
   },
   "outputs": [],
   "source": [
    "from scipy import spatial"
   ]
  },
  {
   "cell_type": "code",
   "execution_count": 6,
   "metadata": {
    "collapsed": true
   },
   "outputs": [],
   "source": [
    "train=pd.read_csv('movielenstrain.csv',usecols=[1,2,3])\n",
    "test=pd.read_csv('movielenstest.csv',usecols=[1,2,3])\n",
    "\n"
   ]
  },
  {
   "cell_type": "code",
   "execution_count": null,
   "metadata": {
    "collapsed": true
   },
   "outputs": [],
   "source": [
    "\n"
   ]
  },
  {
   "cell_type": "code",
   "execution_count": 10,
   "metadata": {
    "collapsed": true
   },
   "outputs": [],
   "source": [
    "import math"
   ]
  },
  {
   "cell_type": "code",
   "execution_count": 11,
   "metadata": {
    "collapsed": true
   },
   "outputs": [],
   "source": [
    "import time"
   ]
  },
  {
   "cell_type": "code",
   "execution_count": null,
   "metadata": {
    "collapsed": true
   },
   "outputs": [],
   "source": []
  },
  {
   "cell_type": "code",
   "execution_count": 13,
   "metadata": {
    "collapsed": true
   },
   "outputs": [],
   "source": [
    "K=[i for i in range(1,121)]\n",
    "error=[0 for i in range(1,121)]\n",
    "mae=[0 for i in range(1,121)]\n",
    "gim=[0 for i in range(1,121)]\n",
    "gpim=[0 for i in range(1,121)]\n",
    "count_gim=[0 for i in range(1,121)]\n",
    "count_gpim=[0 for i in range(1,121)]\n",
    "t1=time.time()\n",
    "for index,i in test.iterrows():\n",
    "    predicted=0\n",
    "    usr=int(i['userId'])\n",
    "    mov=int(i['movieId'])\n",
    "    actual=i['rating']\n",
    "        \n",
    "    all_ratings_for_the_active_item=train[train['movieId']==mov]\n",
    "    list_of_movies_current_user_has_rated=train[train['userId']==usr]\n",
    "    similarity=[]\n",
    "    corres_rate=[]\n",
    "    \n",
    "    for ind2,u in list_of_movies_current_user_has_rated.iterrows():\n",
    "        c1=[]\n",
    "        c2=[]\n",
    "        #c_user=int(u['userId'])\n",
    "        c_item=int(u['movieId'])\n",
    "        #list_curuser=train[train['userId']==c_user]\n",
    "        list_curitem=train[train['movieId']==c_item]\n",
    "        xt=pd.merge( all_ratings_for_the_active_item,list_curitem,how='inner',on=['userId'])\n",
    "        c1=xt['rating_x']\n",
    "        c2=xt['rating_y']\n",
    "        c1_list=c1.tolist()\n",
    "        c2_list=c2.tolist()\n",
    "        sim=0\n",
    "        if len(c1_list)!=0:\n",
    "            sim=(1-spatial.distance.cosine(c1_list,c2_list))\n",
    "        \n",
    "        similarity.append(sim)\n",
    "        corres_rate.append(u['rating'])\n",
    "        \n",
    "    corres_rate = [x for _,x in sorted(zip(similarity,corres_rate),reverse=True)]\n",
    "    similarity.sort(reverse=True)\n",
    "    #for k in K:\n",
    "    cs=0\n",
    "    numc=0\n",
    "    for k in K:\n",
    "        \n",
    "        if (k-1)>=len(similarity):\n",
    "            for m in range(k,121):\n",
    "                error[m-1]+=((actual-predicted)**2)\n",
    "                mae[m-1]+=(abs(actual-predicted))\n",
    "                if predicted >3:\n",
    "                    gpim[m-1]+=(abs(actual-predicted))\n",
    "                    count_gpim[m-1]+=1\n",
    "                if actual >3:\n",
    "                    gim[m-1]+=(abs(actual-predicted))\n",
    "                    count_gim[m-1]+=1\n",
    "                \n",
    "                \n",
    "                \n",
    "            break\n",
    "            \n",
    "            \n",
    "            \n",
    "            \n",
    "        cs+=similarity[k-1]\n",
    "        numc+=(similarity[k-1]*corres_rate[k-1])\n",
    "       \n",
    "        if cs!=0:\n",
    "            predicted=numc/cs\n",
    "        error[k-1]+=((actual-predicted)**2)\n",
    "        mae[k-1]+=(abs(actual-predicted))\n",
    "        if predicted >3:\n",
    "            gpim[k-1]+=(abs(actual-predicted))\n",
    "            count_gpim[k-1]+=1\n",
    "        if actual >3:\n",
    "            gim[k-1]+=(abs(actual-predicted))\n",
    "            count_gim[k-1]+=1\n",
    "        \n",
    "    \n",
    "    \n",
    "t2=time.time()        \n",
    "#print(math.sqrt(error/c))\n",
    "#print(math.sqrt(error/c))"
   ]
  },
  {
   "cell_type": "markdown",
   "metadata": {},
   "source": [
    "t2-t1"
   ]
  },
  {
   "cell_type": "code",
   "execution_count": 15,
   "metadata": {
    "collapsed": false
   },
   "outputs": [
    {
     "data": {
      "text/plain": [
       "15.620670318603516"
      ]
     },
     "execution_count": 15,
     "metadata": {},
     "output_type": "execute_result"
    }
   ],
   "source": [
    "t2-t1"
   ]
  },
  {
   "cell_type": "code",
   "execution_count": 14,
   "metadata": {
    "collapsed": false
   },
   "outputs": [
    {
     "data": {
      "text/plain": [
       "[25447.5,\n",
       " 22982.203160051729,\n",
       " 22073.615132920826,\n",
       " 21585.655306756591,\n",
       " 21284.413201119994,\n",
       " 21027.194121348832,\n",
       " 20795.89276728687,\n",
       " 20556.775998683144,\n",
       " 20342.688068940857,\n",
       " 20148.914146650055,\n",
       " 19942.35808528191,\n",
       " 19753.144270625697,\n",
       " 19584.47092780708,\n",
       " 19414.98551420914,\n",
       " 19250.371696020004,\n",
       " 19098.866922515626,\n",
       " 18937.423447367804,\n",
       " 18782.93028922343,\n",
       " 18641.42436662718,\n",
       " 18516.305019238691,\n",
       " 18383.885762229198,\n",
       " 18261.68469696755,\n",
       " 18131.885387356589,\n",
       " 18007.387115946731,\n",
       " 17894.623961586996,\n",
       " 17788.910274378664,\n",
       " 17685.397252843446,\n",
       " 17590.754096839846,\n",
       " 17495.845595112103,\n",
       " 17404.344996915999,\n",
       " 17321.157880587954,\n",
       " 17229.994690624779,\n",
       " 17145.238378634691,\n",
       " 17061.156019151458,\n",
       " 16982.616173310616,\n",
       " 16910.256689287013,\n",
       " 16841.700231218485,\n",
       " 16771.769257001833,\n",
       " 16703.16435292855,\n",
       " 16633.216773275668,\n",
       " 16568.660871657507,\n",
       " 16510.128221593564,\n",
       " 16446.176608657654,\n",
       " 16386.310508543622,\n",
       " 16326.111986061474,\n",
       " 16268.753450238723,\n",
       " 16215.169781461696,\n",
       " 16162.264681354387,\n",
       " 16110.673997269794,\n",
       " 16060.82664083537,\n",
       " 16013.656153807904,\n",
       " 15969.620382220644,\n",
       " 15925.346283794641,\n",
       " 15877.396487315269,\n",
       " 15835.57587083444,\n",
       " 15791.127848134807,\n",
       " 15746.07609380047,\n",
       " 15701.961233738542,\n",
       " 15662.354016482544,\n",
       " 15625.856786115248,\n",
       " 15586.507493147115,\n",
       " 15546.985951636178,\n",
       " 15509.886699274201,\n",
       " 15471.657722970667,\n",
       " 15437.305663990614,\n",
       " 15400.645313149158,\n",
       " 15364.754880027765,\n",
       " 15331.439953080568,\n",
       " 15296.900520175086,\n",
       " 15262.627326181608,\n",
       " 15230.647799495044,\n",
       " 15199.445117216464,\n",
       " 15167.140742401327,\n",
       " 15133.871664180004,\n",
       " 15105.128408108885,\n",
       " 15077.036596618409,\n",
       " 15049.081368546797,\n",
       " 15019.218525015693,\n",
       " 14990.570467369409,\n",
       " 14962.429515415453,\n",
       " 14937.621872648848,\n",
       " 14911.55751711646,\n",
       " 14885.862357100195,\n",
       " 14858.919934421605,\n",
       " 14836.853190374801,\n",
       " 14815.837516190102,\n",
       " 14790.586698355364,\n",
       " 14769.580189688666,\n",
       " 14747.70254734994,\n",
       " 14724.710724616341,\n",
       " 14704.343658955046,\n",
       " 14680.835468891224,\n",
       " 14659.856812084616,\n",
       " 14636.525110881385,\n",
       " 14615.910707846722,\n",
       " 14596.076472138882,\n",
       " 14572.626604428289,\n",
       " 14553.084895681885,\n",
       " 14531.553174284621,\n",
       " 14512.948825613865,\n",
       " 14492.686951457617,\n",
       " 14476.085097115691,\n",
       " 14456.03967971724,\n",
       " 14436.571919493945,\n",
       " 14418.577728753608,\n",
       " 14399.185030124074,\n",
       " 14381.926424551573,\n",
       " 14362.052859010682,\n",
       " 14343.620314999342,\n",
       " 14324.019026840873,\n",
       " 14307.229021324558,\n",
       " 14290.494314302166,\n",
       " 14274.129165852391,\n",
       " 14255.855366437188,\n",
       " 14239.592742049421,\n",
       " 14225.019086461954,\n",
       " 14208.715751703843,\n",
       " 14192.369818682932,\n",
       " 14176.020339746332,\n",
       " 14160.002556642961]"
      ]
     },
     "execution_count": 14,
     "metadata": {},
     "output_type": "execute_result"
    }
   ],
   "source": [
    "error"
   ]
  },
  {
   "cell_type": "code",
   "execution_count": 15,
   "metadata": {
    "collapsed": true
   },
   "outputs": [],
   "source": [
    "error2=[math.sqrt(i/index) for i in error]"
   ]
  },
  {
   "cell_type": "code",
   "execution_count": 16,
   "metadata": {
    "collapsed": true
   },
   "outputs": [],
   "source": [
    "mae2=[i/index for i in mae]\n",
    "\n"
   ]
  },
  {
   "cell_type": "code",
   "execution_count": 18,
   "metadata": {
    "collapsed": true
   },
   "outputs": [],
   "source": [
    "gim2=[i/j for i,j in zip(gim,count_gim)]\n",
    "\n"
   ]
  },
  {
   "cell_type": "code",
   "execution_count": 19,
   "metadata": {
    "collapsed": true
   },
   "outputs": [],
   "source": [
    "gpim2=[i/j for i,j in zip(gpim,count_gpim)]\n",
    "\n"
   ]
  },
  {
   "cell_type": "code",
   "execution_count": 20,
   "metadata": {
    "collapsed": false
   },
   "outputs": [
    {
     "data": {
      "text/plain": [
       "10030"
      ]
     },
     "execution_count": 20,
     "metadata": {},
     "output_type": "execute_result"
    }
   ],
   "source": [
    "%matplotlib inline\n",
    "\n",
    "index"
   ]
  },
  {
   "cell_type": "code",
   "execution_count": 21,
   "metadata": {
    "collapsed": false
   },
   "outputs": [
    {
     "data": {
      "text/plain": [
       "[<matplotlib.lines.Line2D at 0x8c7c6323c8>]"
      ]
     },
     "execution_count": 21,
     "metadata": {},
     "output_type": "execute_result"
    },
    {
     "data": {
      "image/png": "[encoded data removed]",
      "text/plain": [
       "<matplotlib.figure.Figure at 0x8c7ba74c88>"
      ]
     },
     "metadata": {},
     "output_type": "display_data"
    }
   ],
   "source": [
    "import matplotlib.pyplot as plt\n",
    "\n",
    "plt.plot(K,error2)"
   ]
  },
  {
   "cell_type": "code",
   "execution_count": 22,
   "metadata": {
    "collapsed": false
   },
   "outputs": [
    {
     "data": {
      "text/plain": [
       "119"
      ]
     },
     "execution_count": 22,
     "metadata": {},
     "output_type": "execute_result"
    }
   ],
   "source": [
    " error2.index(min(error2))"
   ]
  },
  {
   "cell_type": "code",
   "execution_count": 23,
   "metadata": {
    "collapsed": false
   },
   "outputs": [
    {
     "data": {
      "text/plain": [
       "1.1881771588369936"
      ]
     },
     "execution_count": 23,
     "metadata": {},
     "output_type": "execute_result"
    }
   ],
   "source": [
    "min(error2)"
   ]
  },
  {
   "cell_type": "code",
   "execution_count": 24,
   "metadata": {
    "collapsed": false
   },
   "outputs": [
    {
     "data": {
      "text/plain": [
       "119"
      ]
     },
     "execution_count": 24,
     "metadata": {},
     "output_type": "execute_result"
    }
   ],
   "source": [
    "mae2.index(min(mae2))"
   ]
  },
  {
   "cell_type": "code",
   "execution_count": 25,
   "metadata": {
    "collapsed": false
   },
   "outputs": [
    {
     "data": {
      "text/plain": [
       "0.86570858964380548"
      ]
     },
     "execution_count": 25,
     "metadata": {},
     "output_type": "execute_result"
    }
   ],
   "source": [
    "min(mae2)"
   ]
  },
  {
   "cell_type": "code",
   "execution_count": 26,
   "metadata": {
    "collapsed": false
   },
   "outputs": [
    {
     "data": {
      "text/plain": [
       "[<matplotlib.lines.Line2D at 0x8c7c7155c0>]"
      ]
     },
     "execution_count": 26,
     "metadata": {},
     "output_type": "execute_result"
    },
    {
     "data": {
      "image/png": "[encoded data removed]",
      "text/plain": [
       "<matplotlib.figure.Figure at 0x8c7ba744e0>"
      ]
     },
     "metadata": {},
     "output_type": "display_data"
    }
   ],
   "source": [
    "plt.plot(K,mae2)"
   ]
  },
  {
   "cell_type": "code",
   "execution_count": 27,
   "metadata": {
    "collapsed": false
   },
   "outputs": [
    {
     "data": {
      "text/plain": [
       "53"
      ]
     },
     "execution_count": 27,
     "metadata": {},
     "output_type": "execute_result"
    }
   ],
   "source": [
    "gim2.index(min(gim2))"
   ]
  },
  {
   "cell_type": "code",
   "execution_count": 28,
   "metadata": {
    "collapsed": false
   },
   "outputs": [
    {
     "data": {
      "text/plain": [
       "0.69599115979518777"
      ]
     },
     "execution_count": 28,
     "metadata": {},
     "output_type": "execute_result"
    }
   ],
   "source": [
    "min(gim2)"
   ]
  },
  {
   "cell_type": "code",
   "execution_count": 29,
   "metadata": {
    "collapsed": false
   },
   "outputs": [
    {
     "data": {
      "text/plain": [
       "[<matplotlib.lines.Line2D at 0x8c7c7aefd0>]"
      ]
     },
     "execution_count": 29,
     "metadata": {},
     "output_type": "execute_result"
    },
    {
     "data": {
      "image/png": "[encoded data removed]",
      "text/plain": [
       "<matplotlib.figure.Figure at 0x8c7c65c7f0>"
      ]
     },
     "metadata": {},
     "output_type": "display_data"
    }
   ],
   "source": [
    "plt.plot(K,gim2)"
   ]
  },
  {
   "cell_type": "code",
   "execution_count": 30,
   "metadata": {
    "collapsed": false
   },
   "outputs": [
    {
     "data": {
      "text/plain": [
       "119"
      ]
     },
     "execution_count": 30,
     "metadata": {},
     "output_type": "execute_result"
    }
   ],
   "source": [
    "gpim2.index(min(gpim2))"
   ]
  },
  {
   "cell_type": "code",
   "execution_count": 31,
   "metadata": {
    "collapsed": false
   },
   "outputs": [
    {
     "data": {
      "text/plain": [
       "0.76307412344826886"
      ]
     },
     "execution_count": 31,
     "metadata": {},
     "output_type": "execute_result"
    }
   ],
   "source": [
    "min(gpim2)"
   ]
  },
  {
   "cell_type": "code",
   "execution_count": 32,
   "metadata": {
    "collapsed": false
   },
   "outputs": [
    {
     "data": {
      "text/plain": [
       "[<matplotlib.lines.Line2D at 0x8c7d818d30>]"
      ]
     },
     "execution_count": 32,
     "metadata": {},
     "output_type": "execute_result"
    },
    {
     "data": {
      "image/png": "[encoded data removed]",
      "text/plain": [
       "<matplotlib.figure.Figure at 0x8c7c7d40f0>"
      ]
     },
     "metadata": {},
     "output_type": "display_data"
    }
   ],
   "source": [
    "plt.plot(K,gpim2)"
   ]
  },
  {
   "cell_type": "code",
   "execution_count": null,
   "metadata": {
    "collapsed": true
   },
   "outputs": [],
   "source": []
  }
 ],
 "metadata": {
  "anaconda-cloud": {},
  "kernelspec": {
   "display_name": "Python [default]",
   "language": "python",
   "name": "python3"
  },
  "language_info": {
   "codemirror_mode": {
    "name": "ipython",
    "version": 3
   },
   "file_extension": ".py",
   "mimetype": "text/x-python",
   "name": "python",
   "nbconvert_exporter": "python",
   "pygments_lexer": "ipython3",
   "version": "3.5.2"
  }
 },
 "nbformat": 4,
 "nbformat_minor": 1
}
