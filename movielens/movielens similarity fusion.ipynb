{
 "cells": [
  {
   "cell_type": "code",
   "execution_count": 1,
   "metadata": {
    "collapsed": true
   },
   "outputs": [],
   "source": [
    "import numpy as np\n",
    "import pandas as pd\n",
    "import math\n",
    "import time\n",
    "import matplotlib.pyplot as plt\n",
    "from scipy import spatial\n",
    "from scipy.stats.stats import pearsonr"
   ]
  },
  {
   "cell_type": "code",
   "execution_count": 3,
   "metadata": {
    "collapsed": true
   },
   "outputs": [],
   "source": [
    "train=pd.read_csv('movielenstrain.csv',usecols=[1,2,3])\n",
    "test=pd.read_csv('movielenstest.csv',usecols=[1,2,3])\n",
    "holdout=pd.read_csv('movilensholdout.csv',usecols=[1,2,3])"
   ]
  },
  {
   "cell_type": "code",
   "execution_count": 4,
   "metadata": {
    "collapsed": false
   },
   "outputs": [
    {
     "data": {
      "text/html": [
       "<div>\n",
       "<style>\n",
       "    .dataframe thead tr:only-child th {\n",
       "        text-align: right;\n",
       "    }\n",
       "\n",
       "    .dataframe thead th {\n",
       "        text-align: left;\n",
       "    }\n",
       "\n",
       "    .dataframe tbody tr th {\n",
       "        vertical-align: top;\n",
       "    }\n",
       "</style>\n",
       "<table border=\"1\" class=\"dataframe\">\n",
       "  <thead>\n",
       "    <tr style=\"text-align: right;\">\n",
       "      <th></th>\n",
       "      <th>movieId</th>\n",
       "      <th>rating</th>\n",
       "      <th>userId</th>\n",
       "    </tr>\n",
       "  </thead>\n",
       "  <tbody>\n",
       "    <tr>\n",
       "      <th>0</th>\n",
       "      <td>301</td>\n",
       "      <td>3.0</td>\n",
       "      <td>551.0</td>\n",
       "    </tr>\n",
       "    <tr>\n",
       "      <th>1</th>\n",
       "      <td>1889</td>\n",
       "      <td>5.0</td>\n",
       "      <td>46.0</td>\n",
       "    </tr>\n",
       "    <tr>\n",
       "      <th>2</th>\n",
       "      <td>2212</td>\n",
       "      <td>5.0</td>\n",
       "      <td>586.0</td>\n",
       "    </tr>\n",
       "    <tr>\n",
       "      <th>3</th>\n",
       "      <td>1143</td>\n",
       "      <td>5.0</td>\n",
       "      <td>232.0</td>\n",
       "    </tr>\n",
       "    <tr>\n",
       "      <th>4</th>\n",
       "      <td>820</td>\n",
       "      <td>2.0</td>\n",
       "      <td>99.0</td>\n",
       "    </tr>\n",
       "  </tbody>\n",
       "</table>\n",
       "</div>"
      ],
      "text/plain": [
       "   movieId  rating  userId\n",
       "0      301     3.0   551.0\n",
       "1     1889     5.0    46.0\n",
       "2     2212     5.0   586.0\n",
       "3     1143     5.0   232.0\n",
       "4      820     2.0    99.0"
      ]
     },
     "execution_count": 4,
     "metadata": {},
     "output_type": "execute_result"
    }
   ],
   "source": [
    "train.head()"
   ]
  },
  {
   "cell_type": "code",
   "execution_count": 5,
   "metadata": {
    "collapsed": true
   },
   "outputs": [],
   "source": [
    "user_total=np.zeros(672)\n",
    "cnt=np.zeros(672,dtype='int64')"
   ]
  },
  {
   "cell_type": "code",
   "execution_count": 6,
   "metadata": {
    "collapsed": true
   },
   "outputs": [],
   "source": [
    "for i,j in train.iterrows():\n",
    "    k=int(j['rating'])\n",
    "    cnt[k]+=1"
   ]
  },
  {
   "cell_type": "code",
   "execution_count": 7,
   "metadata": {
    "collapsed": true
   },
   "outputs": [],
   "source": [
    "movies_mean=np.zeros(shape=[9126,3])"
   ]
  },
  {
   "cell_type": "code",
   "execution_count": 8,
   "metadata": {
    "collapsed": true
   },
   "outputs": [],
   "source": [
    "user_total=np.zeros(672)\n",
    "cnt=np.zeros(672,dtype='int64')\n",
    "for i,j in train.iterrows():\n",
    "    k=int(j['userId'])\n",
    "    cnt[k]+=1\n",
    "    user_total[k]+=j['rating']\n",
    "    p=int(j['movieId'])\n",
    "    movies_mean[p][0]+=1\n",
    "    movies_mean[p][1]+=j['rating']"
   ]
  },
  {
   "cell_type": "code",
   "execution_count": 9,
   "metadata": {
    "collapsed": false
   },
   "outputs": [
    {
     "name": "stderr",
     "output_type": "stream",
     "text": [
      "C:\\Users\\ADMIN\\Anaconda3\\lib\\site-packages\\ipykernel_launcher.py:1: RuntimeWarning: invalid value encountered in double_scalars\n",
      "  \"\"\"Entry point for launching an IPython kernel.\n",
      "C:\\Users\\ADMIN\\Anaconda3\\lib\\site-packages\\ipykernel_launcher.py:3: RuntimeWarning: invalid value encountered in double_scalars\n",
      "  This is separate from the ipykernel package so we can avoid doing imports until\n"
     ]
    }
   ],
   "source": [
    "user_mean=np.array([ i/j for i,j in zip(user_total,cnt) ])\n",
    "for x in movies_mean:\n",
    "    x[2]=round(x[1]/x[0],2)\n",
    "    \n",
    "for x in movies_mean:\n",
    "    if math.isnan(x[2]):\n",
    "        x[2]=0\n",
    "for i in range(len(user_mean)):\n",
    "    if math.isnan(user_mean[i]):\n",
    "        user_mean[i]=0"
   ]
  },
  {
   "cell_type": "code",
   "execution_count": 10,
   "metadata": {
    "collapsed": true,
    "scrolled": true
   },
   "outputs": [],
   "source": [
    "\n",
    "t1 = time.time()\n",
    "\n",
    "predicted_rating=[];\n",
    "K=50\n",
    "rmse=[[0 for i in range(10)] for j in range(10)]\n",
    "Lambda=[0,0.1,0.2,0.3,0.4,0.5,0.6,0.7,0.8,0.9]\n",
    "delta=[0,0.1,0.2,0.3,0.4,0.5,0.6,0.7,0.8,0.9]\n",
    "for index,i in holdout.iterrows():\n",
    "    \n",
    "    usr=int(i['userId'])\n",
    "    mov=int(i['movieId'])\n",
    "    actual=i['rating']\n",
    "    \n",
    "    list_user = train[train['userId']==usr]\n",
    "    list_item = train[train['movieId']==mov]\n",
    "    \n",
    "    ############### SUR #########################\n",
    "    similarity1=[]\n",
    "    corres_rate1=[]\n",
    "    similar_users=[]\n",
    "    for ind2,u in list_item.iterrows():\n",
    "        \n",
    "        c1=[]\n",
    "        c2=[]\n",
    "        c_user=int(u['userId'])\n",
    "        list_curuser=train[train['userId']==c_user]\n",
    "        xt=pd.merge(list_user,list_curuser,how='inner',on=['movieId'])\n",
    "        c1=xt['rating_x']\n",
    "        c2=xt['rating_y']\n",
    "        c1_list=c1.tolist()\n",
    "        c2_list=c2.tolist()\n",
    "        sim=0\n",
    "        if len(c1_list)!=0:\n",
    "            sim=(1-spatial.distance.cosine(c1_list,c2_list))\n",
    "        \n",
    "        similarity1.append(sim)\n",
    "        corres_rate1.append(u['rating'])\n",
    "        similar_users.append(u['userId'])\n",
    "    \n",
    "    corres_rate1 = [x for _,x in sorted(zip(similarity1,corres_rate1),reverse=True)]\n",
    "    similar_users=[x for _,x in sorted(zip(similarity1,similar_users),reverse=True)]\n",
    "    \n",
    "    similarity1.sort(reverse=True)\n",
    "    \n",
    "    corres_rate1=corres_rate1[0:K]\n",
    "    similarity1=similarity1[0:K]\n",
    "    similar_users=similar_users[0:K]\n",
    "    \n",
    "    \n",
    "    ############### SIR #########################\n",
    "    similarity2=[]\n",
    "    corres_rate2=[]\n",
    "    similar_items=[]\n",
    "    for ind3,u in list_user.iterrows():\n",
    "        \n",
    "        c1=[]\n",
    "        c2=[]\n",
    "        c_item=int(u['movieId'])\n",
    "        list_curitem=train[train['movieId']==c_item]\n",
    "        xt=pd.merge(list_item,list_curitem,how='inner',on=['userId'])\n",
    "        c1=xt['rating_x']\n",
    "        c2=xt['rating_y']\n",
    "        c1_list=c1.tolist()\n",
    "        c2_list=c2.tolist()\n",
    "        sim=0\n",
    "        if len(c1_list)!=0:\n",
    "            sim=(1-spatial.distance.cosine(c1_list,c2_list))\n",
    "        \n",
    "        similarity2.append(sim)\n",
    "        corres_rate2.append(u['rating'])\n",
    "        similar_items.append(u['movieId'])\n",
    "    \n",
    "    corres_rate2 = [x for _,x in sorted(zip(similarity2,corres_rate2),reverse=True)]\n",
    "    similar_items=[x for _,x in sorted(zip(similarity2,similar_items),reverse=True)]\n",
    "    \n",
    "    similarity2.sort(reverse=True)\n",
    "    \n",
    "    corres_rate2=corres_rate2[0:K]\n",
    "    similarity2=similarity2[0:K]\n",
    "    similar_items=similar_items[0:K]\n",
    "    \n",
    "    \n",
    "    \n",
    "    ############### SUIR #########################\n",
    "    suir=[]\n",
    "    suir_user=[]\n",
    "    suir_item=[]\n",
    "    suir_ratings=[]\n",
    "    for p1,p2 in zip(similarity1,similar_users):\n",
    "        x1=train[train['userId']==p2]\n",
    "        for q1,q2 in zip(similarity2,similar_items):\n",
    "            x2=x1[x1['movieId']==q2]\n",
    "            \n",
    "            if(x2.shape[0]!=0):\n",
    "                try:\n",
    "                    sui = 1/(math.sqrt( (1/p1) ** 2 + (1/q1) ** 2 ))\n",
    "                except ZeroDivisionError:\n",
    "                    sui = 0\n",
    "            \n",
    "                suir.append(sui)\n",
    "                suir_user.append(p2)\n",
    "                suir_item.append(q2)\n",
    "                r=x2['rating'].tolist()[0]\n",
    "                suir_ratings.append(r)\n",
    "    \n",
    "    \n",
    "    ##################rating computation###############################3\n",
    "    \n",
    "    \n",
    "    sum1=sum(similarity1)\n",
    "    if sum1!=0:\n",
    "        similarity_new1=[p/sum1 for p in similarity1]\n",
    "    else:\n",
    "        similarity_new1=[0 for p in similarity1]\n",
    "    sum2=sum(similarity2)\n",
    "    if sum2!=0:\n",
    "        similarity_new2=[p/sum2 for p in similarity2]\n",
    "    else:\n",
    "        similarity_new2=[0 for p in similarity2]\n",
    "    sum3=sum(suir)\n",
    "    if sum3!=0:\n",
    "        similarity_new3=[p/sum3 for p in suir]\n",
    "    else:\n",
    "         similarity_new3=[0 for p in suir]\n",
    "    pred=[[0 for u in range(10)] for t in range(10)] \n",
    "    \n",
    "    for p1,p2,p3 in zip(similarity_new1,similar_users,corres_rate1):\n",
    "        \n",
    "\n",
    "        p = p3 - (user_mean[int(p2)] - user_mean[usr])\n",
    "        \n",
    "        for e in range(0,10):\n",
    "            for d in range(0,10):\n",
    "                pred[e][d]+=(p*p1*Lambda[e]*(1-delta[d]))\n",
    "   \n",
    "    for p1,p2,p3 in zip(similarity_new2,similar_items,corres_rate2):\n",
    "        \n",
    "        p = p3  - (movies_mean[int(p2)][2] - movies_mean[mov][2])\n",
    "        for e in range(0,10):\n",
    "            for d in range(0,10):\n",
    "                pred[e][d]+=(p*p1*Lambda[e]*(1-delta[d]))\n",
    "   \n",
    "             \n",
    "    for p1,p2,p3,p4 in zip(similarity_new3,suir_user,suir_item,suir_ratings):\n",
    "        \n",
    "        p = p4 - (user_mean[int(p2)] - user_mean[usr]) - (movies_mean[int(p3)][2] - movies_mean[mov][2])\n",
    "        for e in range(0,10):\n",
    "            for d in range(0,10):\n",
    "                pred[e][d]+=(p*p1*Lambda[e]*(1-delta[d]))\n",
    "   \n",
    "    for e in range(0,10):\n",
    "        for d in range(0,10):\n",
    "            rmse[e][d]+=((actual-pred[e][d])**2)\n",
    "t2=time.time()\n"
   ]
  },
  {
   "cell_type": "code",
   "execution_count": 11,
   "metadata": {
    "collapsed": false
   },
   "outputs": [
    {
     "data": {
      "text/plain": [
       "9721"
      ]
     },
     "execution_count": 11,
     "metadata": {},
     "output_type": "execute_result"
    }
   ],
   "source": [
    "index"
   ]
  },
  {
   "cell_type": "code",
   "execution_count": null,
   "metadata": {
    "collapsed": true
   },
   "outputs": [],
   "source": []
  },
  {
   "cell_type": "code",
   "execution_count": 12,
   "metadata": {
    "collapsed": true
   },
   "outputs": [],
   "source": [
    "%matplotlib inline"
   ]
  },
  {
   "cell_type": "code",
   "execution_count": 13,
   "metadata": {
    "collapsed": true
   },
   "outputs": [],
   "source": [
    "for i in range(10):\n",
    "    for j in range(10):\n",
    "        rmse[i][j]=math.sqrt(rmse[i][j]/index)"
   ]
  },
  {
   "cell_type": "code",
   "execution_count": null,
   "metadata": {
    "collapsed": true
   },
   "outputs": [],
   "source": [
    "rmse"
   ]
  },
  {
   "cell_type": "code",
   "execution_count": 22,
   "metadata": {
    "collapsed": true
   },
   "outputs": [],
   "source": [
    "min_val=9999\n",
    "min_lambda=0\n",
    "min_delta=0"
   ]
  },
  {
   "cell_type": "code",
   "execution_count": 27,
   "metadata": {
    "collapsed": true
   },
   "outputs": [],
   "source": [
    "for i in range(10):\n",
    "    for j in range(10):\n",
    "        if min_val> rmse[i][j]:\n",
    "            min_val=rmse[i][j]\n",
    "            min_lambda=(i/10)\n",
    "            min_delta=(j/10)"
   ]
  },
  {
   "cell_type": "code",
   "execution_count": 28,
   "metadata": {
    "collapsed": false
   },
   "outputs": [
    {
     "data": {
      "text/plain": [
       "1.1213708942729583"
      ]
     },
     "execution_count": 28,
     "metadata": {},
     "output_type": "execute_result"
    }
   ],
   "source": [
    "min_val"
   ]
  },
  {
   "cell_type": "code",
   "execution_count": 29,
   "metadata": {
    "collapsed": false
   },
   "outputs": [
    {
     "data": {
      "text/plain": [
       "0.4"
      ]
     },
     "execution_count": 29,
     "metadata": {},
     "output_type": "execute_result"
    }
   ],
   "source": [
    "min_lambda"
   ]
  },
  {
   "cell_type": "code",
   "execution_count": 30,
   "metadata": {
    "collapsed": false
   },
   "outputs": [
    {
     "data": {
      "text/plain": [
       "0.2"
      ]
     },
     "execution_count": 30,
     "metadata": {},
     "output_type": "execute_result"
    }
   ],
   "source": [
    "min_delta"
   ]
  },
  {
   "cell_type": "code",
   "execution_count": null,
   "metadata": {
    "collapsed": true
   },
   "outputs": [],
   "source": []
  },
  {
   "cell_type": "code",
   "execution_count": 31,
   "metadata": {
    "collapsed": false
   },
   "outputs": [
    {
     "data": {
      "text/html": [
       "<div>\n",
       "<style>\n",
       "    .dataframe thead tr:only-child th {\n",
       "        text-align: right;\n",
       "    }\n",
       "\n",
       "    .dataframe thead th {\n",
       "        text-align: left;\n",
       "    }\n",
       "\n",
       "    .dataframe tbody tr th {\n",
       "        vertical-align: top;\n",
       "    }\n",
       "</style>\n",
       "<table border=\"1\" class=\"dataframe\">\n",
       "  <thead>\n",
       "    <tr style=\"text-align: right;\">\n",
       "      <th></th>\n",
       "      <th>movieId</th>\n",
       "      <th>rating</th>\n",
       "      <th>userId</th>\n",
       "    </tr>\n",
       "  </thead>\n",
       "  <tbody>\n",
       "    <tr>\n",
       "      <th>count</th>\n",
       "      <td>9722.000000</td>\n",
       "      <td>9722.000000</td>\n",
       "      <td>9722.000000</td>\n",
       "    </tr>\n",
       "    <tr>\n",
       "      <th>mean</th>\n",
       "      <td>2720.068916</td>\n",
       "      <td>3.538675</td>\n",
       "      <td>347.228348</td>\n",
       "    </tr>\n",
       "    <tr>\n",
       "      <th>std</th>\n",
       "      <td>2390.148336</td>\n",
       "      <td>1.062009</td>\n",
       "      <td>195.238989</td>\n",
       "    </tr>\n",
       "    <tr>\n",
       "      <th>min</th>\n",
       "      <td>0.000000</td>\n",
       "      <td>0.500000</td>\n",
       "      <td>1.000000</td>\n",
       "    </tr>\n",
       "    <tr>\n",
       "      <th>25%</th>\n",
       "      <td>832.000000</td>\n",
       "      <td>3.000000</td>\n",
       "      <td>182.000000</td>\n",
       "    </tr>\n",
       "    <tr>\n",
       "      <th>50%</th>\n",
       "      <td>1954.500000</td>\n",
       "      <td>4.000000</td>\n",
       "      <td>367.000000</td>\n",
       "    </tr>\n",
       "    <tr>\n",
       "      <th>75%</th>\n",
       "      <td>4139.000000</td>\n",
       "      <td>4.000000</td>\n",
       "      <td>520.000000</td>\n",
       "    </tr>\n",
       "    <tr>\n",
       "      <th>max</th>\n",
       "      <td>9116.000000</td>\n",
       "      <td>5.000000</td>\n",
       "      <td>671.000000</td>\n",
       "    </tr>\n",
       "  </tbody>\n",
       "</table>\n",
       "</div>"
      ],
      "text/plain": [
       "           movieId       rating       userId\n",
       "count  9722.000000  9722.000000  9722.000000\n",
       "mean   2720.068916     3.538675   347.228348\n",
       "std    2390.148336     1.062009   195.238989\n",
       "min       0.000000     0.500000     1.000000\n",
       "25%     832.000000     3.000000   182.000000\n",
       "50%    1954.500000     4.000000   367.000000\n",
       "75%    4139.000000     4.000000   520.000000\n",
       "max    9116.000000     5.000000   671.000000"
      ]
     },
     "execution_count": 31,
     "metadata": {},
     "output_type": "execute_result"
    }
   ],
   "source": [
    "holdout.describe()"
   ]
  },
  {
   "cell_type": "code",
   "execution_count": null,
   "metadata": {
    "collapsed": true
   },
   "outputs": [],
   "source": []
  },
  {
   "cell_type": "code",
   "execution_count": null,
   "metadata": {
    "collapsed": true
   },
   "outputs": [],
   "source": [
    "#test set"
   ]
  },
  {
   "cell_type": "code",
   "execution_count": 32,
   "metadata": {
    "collapsed": true
   },
   "outputs": [],
   "source": [
    "\n",
    "t1 = time.time()\n",
    "\n",
    "predicted_rating=[];\n",
    "K=50\n",
    "Lambda =min_lambda \n",
    "delta =min_delta\n",
    "rmse =  0\n",
    "mae= 0\n",
    "gim = 0\n",
    "gpim=0\n",
    "c_gim=0\n",
    "c_gpim=0\n",
    "for index,i in test.iterrows():\n",
    "    \n",
    "    usr=int(i['userId'])\n",
    "    mov=int(i['movieId'])\n",
    "    actual=i['rating']\n",
    "    \n",
    "    list_user = train[train['userId']==usr]\n",
    "    list_item = train[train['movieId']==mov]\n",
    "    \n",
    "    ############### SUR #########################\n",
    "    similarity1=[]\n",
    "    corres_rate1=[]\n",
    "    similar_users=[]\n",
    "    for ind2,u in list_item.iterrows():\n",
    "        \n",
    "        c1=[]\n",
    "        c2=[]\n",
    "        c_user=int(u['userId'])\n",
    "        list_curuser=train[train['userId']==c_user]\n",
    "        xt=pd.merge(list_user,list_curuser,how='inner',on=['movieId'])\n",
    "        c1=xt['rating_x']\n",
    "        c2=xt['rating_y']\n",
    "        c1_list=c1.tolist()\n",
    "        c2_list=c2.tolist()\n",
    "        sim=0\n",
    "        if len(c1_list)!=0:\n",
    "            sim=(1-spatial.distance.cosine(c1_list,c2_list))\n",
    "        \n",
    "        similarity1.append(sim)\n",
    "        corres_rate1.append(u['rating'])\n",
    "        similar_users.append(u['userId'])\n",
    "    \n",
    "    corres_rate1 = [x for _,x in sorted(zip(similarity1,corres_rate1),reverse=True)]\n",
    "    similar_users=[x for _,x in sorted(zip(similarity1,similar_users),reverse=True)]\n",
    "    \n",
    "    similarity1.sort(reverse=True)\n",
    "    \n",
    "    corres_rate1=corres_rate1[0:K]\n",
    "    similarity1=similarity1[0:K]\n",
    "    similar_users=similar_users[0:K]\n",
    "    \n",
    "    \n",
    "    ############### SIR #########################\n",
    "    similarity2=[]\n",
    "    corres_rate2=[]\n",
    "    similar_items=[]\n",
    "    for ind3,u in list_user.iterrows():\n",
    "        \n",
    "        c1=[]\n",
    "        c2=[]\n",
    "        c_item=int(u['movieId'])\n",
    "        list_curitem=train[train['movieId']==c_item]\n",
    "        xt=pd.merge(list_item,list_curitem,how='inner',on=['userId'])\n",
    "        c1=xt['rating_x']\n",
    "        c2=xt['rating_y']\n",
    "        c1_list=c1.tolist()\n",
    "        c2_list=c2.tolist()\n",
    "        sim=0\n",
    "        if len(c1_list)!=0:\n",
    "            sim=(1-spatial.distance.cosine(c1_list,c2_list))\n",
    "        \n",
    "        similarity2.append(sim)\n",
    "        corres_rate2.append(u['rating'])\n",
    "        similar_items.append(u['movieId'])\n",
    "    \n",
    "    corres_rate2 = [x for _,x in sorted(zip(similarity2,corres_rate2),reverse=True)]\n",
    "    similar_items=[x for _,x in sorted(zip(similarity2,similar_items),reverse=True)]\n",
    "    \n",
    "    similarity2.sort(reverse=True)\n",
    "    \n",
    "    corres_rate2=corres_rate2[0:K]\n",
    "    similarity2=similarity2[0:K]\n",
    "    similar_items=similar_items[0:K]\n",
    "    \n",
    "    \n",
    "    \n",
    "    ############### SUIR #########################\n",
    "    suir=[]\n",
    "    suir_user=[]\n",
    "    suir_item=[]\n",
    "    suir_ratings=[]\n",
    "    for p1,p2 in zip(similarity1,similar_users):\n",
    "        x1=train[train['userId']==p2]\n",
    "        for q1,q2 in zip(similarity2,similar_items):\n",
    "            x2=x1[x1['movieId']==q2]\n",
    "            \n",
    "            if(x2.shape[0]!=0):\n",
    "                try:\n",
    "                    sui = 1/(math.sqrt( (1/p1) ** 2 + (1/q1) ** 2 ))\n",
    "                except ZeroDivisionError:\n",
    "                    sui = 0\n",
    "            \n",
    "                suir.append(sui)\n",
    "                suir_user.append(p2)\n",
    "                suir_item.append(q2)\n",
    "                r=x2['rating'].tolist()[0]\n",
    "                suir_ratings.append(r)\n",
    "    \n",
    "    \n",
    "    ##################rating computation###############################3\n",
    "    \n",
    "    \n",
    "    sum1=sum(similarity1)\n",
    "    if sum1!=0:\n",
    "        similarity_new1=[p/sum1 for p in similarity1]\n",
    "    else:\n",
    "        similarity_new1=[0 for p in similarity1]\n",
    "    sum2=sum(similarity2)\n",
    "    if sum2!=0:\n",
    "        similarity_new2=[p/sum2 for p in similarity2]\n",
    "    else:\n",
    "        similarity_new2=[0 for p in similarity2]\n",
    "    sum3=sum(suir)\n",
    "    if sum3!=0:\n",
    "        similarity_new3=[p/sum3 for p in suir]\n",
    "    else:\n",
    "         similarity_new3=[0 for p in suir]\n",
    "    pred=0 \n",
    "    \n",
    "    for p1,p2,p3 in zip(similarity_new1,similar_users,corres_rate1):\n",
    "        \n",
    "\n",
    "        p = p3 - (user_mean[int(p2)] - user_mean[usr])\n",
    "        pred+=(p*p1*Lambda*(1-delta))\n",
    "   \n",
    "    for p1,p2,p3 in zip(similarity_new2,similar_items,corres_rate2):\n",
    "        \n",
    "        p = p3  - (movies_mean[int(p2)][2] - movies_mean[mov][2])\n",
    "        pred+=(p*p1*Lambda*(1-delta))\n",
    "             \n",
    "    for p1,p2,p3,p4 in zip(similarity_new3,suir_user,suir_item,suir_ratings):\n",
    "        \n",
    "        p = p4 - (user_mean[int(p2)] - user_mean[usr]) - (movies_mean[int(p3)][2] - movies_mean[mov][2])\n",
    "        pred+=(p*p1*Lambda*(1-delta))\n",
    "    \n",
    "    rmse+=((actual-pred)**2)\n",
    "    mae+=(math.fabs(actual-pred))\n",
    "    if actual >3:\n",
    "        c_gim+=1\n",
    "        gim+=(math.fabs(actual-pred))\n",
    "    if pred > 3:\n",
    "        c_gpim+=1\n",
    "        gpim+=(math.fabs(actual-pred))\n",
    "t2=time.time()\n"
   ]
  },
  {
   "cell_type": "code",
   "execution_count": 33,
   "metadata": {
    "collapsed": false
   },
   "outputs": [
    {
     "data": {
      "text/plain": [
       "10030"
      ]
     },
     "execution_count": 33,
     "metadata": {},
     "output_type": "execute_result"
    }
   ],
   "source": [
    "index"
   ]
  },
  {
   "cell_type": "code",
   "execution_count": 34,
   "metadata": {
    "collapsed": false
   },
   "outputs": [
    {
     "data": {
      "text/plain": [
       "12229.771950681099"
      ]
     },
     "execution_count": 34,
     "metadata": {},
     "output_type": "execute_result"
    }
   ],
   "source": [
    "rmse"
   ]
  },
  {
   "cell_type": "code",
   "execution_count": 35,
   "metadata": {
    "collapsed": false
   },
   "outputs": [
    {
     "data": {
      "text/plain": [
       "1.1042278919480533"
      ]
     },
     "execution_count": 35,
     "metadata": {},
     "output_type": "execute_result"
    }
   ],
   "source": [
    "math.sqrt(rmse/index)"
   ]
  },
  {
   "cell_type": "code",
   "execution_count": 36,
   "metadata": {
    "collapsed": false
   },
   "outputs": [
    {
     "data": {
      "text/plain": [
       "0.79300729413801685"
      ]
     },
     "execution_count": 36,
     "metadata": {},
     "output_type": "execute_result"
    }
   ],
   "source": [
    "mae/index"
   ]
  },
  {
   "cell_type": "code",
   "execution_count": 37,
   "metadata": {
    "collapsed": false
   },
   "outputs": [
    {
     "data": {
      "text/plain": [
       "0.717373419029757"
      ]
     },
     "execution_count": 37,
     "metadata": {},
     "output_type": "execute_result"
    }
   ],
   "source": [
    "gim/c_gim"
   ]
  },
  {
   "cell_type": "code",
   "execution_count": 38,
   "metadata": {
    "collapsed": false
   },
   "outputs": [
    {
     "data": {
      "text/plain": [
       "0.6705804504519659"
      ]
     },
     "execution_count": 38,
     "metadata": {},
     "output_type": "execute_result"
    }
   ],
   "source": [
    "gpim/c_gpim"
   ]
  },
  {
   "cell_type": "code",
   "execution_count": null,
   "metadata": {
    "collapsed": true
   },
   "outputs": [],
   "source": []
  }
 ],
 "metadata": {
  "anaconda-cloud": {},
  "kernelspec": {
   "display_name": "Python [default]",
   "language": "python",
   "name": "python3"
  },
  "language_info": {
   "codemirror_mode": {
    "name": "ipython",
    "version": 3
   },
   "file_extension": ".py",
   "mimetype": "text/x-python",
   "name": "python",
   "nbconvert_exporter": "python",
   "pygments_lexer": "ipython3",
   "version": "3.5.2"
  }
 },
 "nbformat": 4,
 "nbformat_minor": 2
}
