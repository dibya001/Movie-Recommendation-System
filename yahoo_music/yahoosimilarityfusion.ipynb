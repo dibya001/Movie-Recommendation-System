{
 "cells": [
  {
   "cell_type": "code",
   "execution_count": 1,
   "metadata": {
    "collapsed": true
   },
   "outputs": [],
   "source": [
    "import numpy as np\n",
    "import pandas as pd\n",
    "import math\n",
    "import time\n",
    "import matplotlib.pyplot as plt\n",
    "from scipy import spatial\n",
    "from scipy.stats.stats import pearsonr"
   ]
  },
  {
   "cell_type": "code",
   "execution_count": 2,
   "metadata": {
    "collapsed": true
   },
   "outputs": [],
   "source": [
    "train=pd.read_csv('ytrain.csv',usecols=[1,2,3])\n",
    "test=pd.read_csv('ytest.csv',usecols=[1,2,3])\n",
    "holdout=pd.read_csv('yholdout.csv',usecols=[1,2,3])"
   ]
  },
  {
   "cell_type": "code",
   "execution_count": 3,
   "metadata": {
    "collapsed": false
   },
   "outputs": [
    {
     "data": {
      "text/html": [
       "<div>\n",
       "<style>\n",
       "    .dataframe thead tr:only-child th {\n",
       "        text-align: right;\n",
       "    }\n",
       "\n",
       "    .dataframe thead th {\n",
       "        text-align: left;\n",
       "    }\n",
       "\n",
       "    .dataframe tbody tr th {\n",
       "        vertical-align: top;\n",
       "    }\n",
       "</style>\n",
       "<table border=\"1\" class=\"dataframe\">\n",
       "  <thead>\n",
       "    <tr style=\"text-align: right;\">\n",
       "      <th></th>\n",
       "      <th>itemId</th>\n",
       "      <th>rating</th>\n",
       "      <th>userId</th>\n",
       "    </tr>\n",
       "  </thead>\n",
       "  <tbody>\n",
       "    <tr>\n",
       "      <th>0</th>\n",
       "      <td>208.0</td>\n",
       "      <td>2.0</td>\n",
       "      <td>10589.0</td>\n",
       "    </tr>\n",
       "    <tr>\n",
       "      <th>1</th>\n",
       "      <td>731.0</td>\n",
       "      <td>1.0</td>\n",
       "      <td>1934.0</td>\n",
       "    </tr>\n",
       "    <tr>\n",
       "      <th>2</th>\n",
       "      <td>365.0</td>\n",
       "      <td>2.0</td>\n",
       "      <td>11511.0</td>\n",
       "    </tr>\n",
       "    <tr>\n",
       "      <th>3</th>\n",
       "      <td>395.0</td>\n",
       "      <td>1.0</td>\n",
       "      <td>5101.0</td>\n",
       "    </tr>\n",
       "    <tr>\n",
       "      <th>4</th>\n",
       "      <td>858.0</td>\n",
       "      <td>4.0</td>\n",
       "      <td>6612.0</td>\n",
       "    </tr>\n",
       "  </tbody>\n",
       "</table>\n",
       "</div>"
      ],
      "text/plain": [
       "   itemId  rating   userId\n",
       "0   208.0     2.0  10589.0\n",
       "1   731.0     1.0   1934.0\n",
       "2   365.0     2.0  11511.0\n",
       "3   395.0     1.0   5101.0\n",
       "4   858.0     4.0   6612.0"
      ]
     },
     "execution_count": 3,
     "metadata": {},
     "output_type": "execute_result"
    }
   ],
   "source": [
    "train.head()"
   ]
  },
  {
   "cell_type": "code",
   "execution_count": 6,
   "metadata": {
    "collapsed": true
   },
   "outputs": [],
   "source": [
    "user_total=np.zeros(15401)\n",
    "cnt=np.zeros(15401,dtype='int64')"
   ]
  },
  {
   "cell_type": "code",
   "execution_count": 7,
   "metadata": {
    "collapsed": true
   },
   "outputs": [],
   "source": [
    "for i,j in train.iterrows():\n",
    "    k=int(j['rating'])\n",
    "    cnt[k]+=1"
   ]
  },
  {
   "cell_type": "code",
   "execution_count": 8,
   "metadata": {
    "collapsed": true
   },
   "outputs": [],
   "source": [
    "movies_mean=np.zeros(shape=[1001,3])"
   ]
  },
  {
   "cell_type": "code",
   "execution_count": 10,
   "metadata": {
    "collapsed": true
   },
   "outputs": [],
   "source": [
    "user_total=np.zeros(15401)\n",
    "cnt=np.zeros(15401,dtype='int64')\n",
    "for i,j in train.iterrows():\n",
    "    k=int(j['userId'])\n",
    "    cnt[k]+=1\n",
    "    user_total[k]+=j['rating']\n",
    "    p=int(j['itemId'])\n",
    "    movies_mean[p][0]+=1\n",
    "    movies_mean[p][1]+=j['rating']"
   ]
  },
  {
   "cell_type": "code",
   "execution_count": 11,
   "metadata": {
    "collapsed": false
   },
   "outputs": [
    {
     "name": "stderr",
     "output_type": "stream",
     "text": [
      "C:\\Users\\ADMIN\\Anaconda3\\lib\\site-packages\\ipykernel_launcher.py:1: RuntimeWarning: invalid value encountered in double_scalars\n",
      "  \"\"\"Entry point for launching an IPython kernel.\n",
      "C:\\Users\\ADMIN\\Anaconda3\\lib\\site-packages\\ipykernel_launcher.py:3: RuntimeWarning: invalid value encountered in double_scalars\n",
      "  This is separate from the ipykernel package so we can avoid doing imports until\n"
     ]
    }
   ],
   "source": [
    "user_mean=np.array([ i/j for i,j in zip(user_total,cnt) ])\n",
    "for x in movies_mean:\n",
    "    x[2]=round(x[1]/x[0],2)\n",
    "    \n",
    "for x in movies_mean:\n",
    "    if math.isnan(x[2]):\n",
    "        x[2]=0\n",
    "for i in range(len(user_mean)):\n",
    "    if math.isnan(user_mean[i]):\n",
    "        user_mean[i]=0"
   ]
  },
  {
   "cell_type": "code",
   "execution_count": 12,
   "metadata": {
    "collapsed": true,
    "scrolled": true
   },
   "outputs": [],
   "source": [
    "\n",
    "t1 = time.time()\n",
    "\n",
    "predicted_rating=[];\n",
    "K=50\n",
    "rmse=[[0 for i in range(10)] for j in range(10)]\n",
    "Lambda=[0,0.1,0.2,0.3,0.4,0.5,0.6,0.7,0.8,0.9]\n",
    "delta=[0,0.1,0.2,0.3,0.4,0.5,0.6,0.7,0.8,0.9]\n",
    "for index,i in holdout.iterrows():\n",
    "    \n",
    "    usr=int(i['userId'])\n",
    "    mov=int(i['itemId'])\n",
    "    actual=i['rating']\n",
    "    \n",
    "    list_user = train[train['userId']==usr]\n",
    "    list_item = train[train['itemId']==mov]\n",
    "    \n",
    "    ############### SUR #########################\n",
    "    similarity1=[]\n",
    "    corres_rate1=[]\n",
    "    similar_users=[]\n",
    "    for ind2,u in list_item.iterrows():\n",
    "        \n",
    "        c1=[]\n",
    "        c2=[]\n",
    "        c_user=int(u['userId'])\n",
    "        list_curuser=train[train['userId']==c_user]\n",
    "        xt=pd.merge(list_user,list_curuser,how='inner',on=['itemId'])\n",
    "        c1=xt['rating_x']\n",
    "        c2=xt['rating_y']\n",
    "        c1_list=c1.tolist()\n",
    "        c2_list=c2.tolist()\n",
    "        sim=0\n",
    "        if len(c1_list)!=0:\n",
    "            sim=(1-spatial.distance.cosine(c1_list,c2_list))\n",
    "        \n",
    "        similarity1.append(sim)\n",
    "        corres_rate1.append(u['rating'])\n",
    "        similar_users.append(u['userId'])\n",
    "    \n",
    "    corres_rate1 = [x for _,x in sorted(zip(similarity1,corres_rate1),reverse=True)]\n",
    "    similar_users=[x for _,x in sorted(zip(similarity1,similar_users),reverse=True)]\n",
    "    \n",
    "    similarity1.sort(reverse=True)\n",
    "    \n",
    "    corres_rate1=corres_rate1[0:K]\n",
    "    similarity1=similarity1[0:K]\n",
    "    similar_users=similar_users[0:K]\n",
    "    \n",
    "    \n",
    "    ############### SIR #########################\n",
    "    similarity2=[]\n",
    "    corres_rate2=[]\n",
    "    similar_items=[]\n",
    "    for ind3,u in list_user.iterrows():\n",
    "        \n",
    "        c1=[]\n",
    "        c2=[]\n",
    "        c_item=int(u['itemId'])\n",
    "        list_curitem=train[train['itemId']==c_item]\n",
    "        xt=pd.merge(list_item,list_curitem,how='inner',on=['userId'])\n",
    "        c1=xt['rating_x']\n",
    "        c2=xt['rating_y']\n",
    "        c1_list=c1.tolist()\n",
    "        c2_list=c2.tolist()\n",
    "        sim=0\n",
    "        if len(c1_list)!=0:\n",
    "            sim=(1-spatial.distance.cosine(c1_list,c2_list))\n",
    "        \n",
    "        similarity2.append(sim)\n",
    "        corres_rate2.append(u['rating'])\n",
    "        similar_items.append(u['itemId'])\n",
    "    \n",
    "    corres_rate2 = [x for _,x in sorted(zip(similarity2,corres_rate2),reverse=True)]\n",
    "    similar_items=[x for _,x in sorted(zip(similarity2,similar_items),reverse=True)]\n",
    "    \n",
    "    similarity2.sort(reverse=True)\n",
    "    \n",
    "    corres_rate2=corres_rate2[0:K]\n",
    "    similarity2=similarity2[0:K]\n",
    "    similar_items=similar_items[0:K]\n",
    "    \n",
    "    \n",
    "    \n",
    "    ############### SUIR #########################\n",
    "    suir=[]\n",
    "    suir_user=[]\n",
    "    suir_item=[]\n",
    "    suir_ratings=[]\n",
    "    for p1,p2 in zip(similarity1,similar_users):\n",
    "        x1=train[train['userId']==p2]\n",
    "        for q1,q2 in zip(similarity2,similar_items):\n",
    "            x2=x1[x1['itemId']==q2]\n",
    "            \n",
    "            if(x2.shape[0]!=0):\n",
    "                try:\n",
    "                    sui = 1/(math.sqrt( (1/p1) ** 2 + (1/q1) ** 2 ))\n",
    "                except ZeroDivisionError:\n",
    "                    sui = 0\n",
    "            \n",
    "                suir.append(sui)\n",
    "                suir_user.append(p2)\n",
    "                suir_item.append(q2)\n",
    "                r=x2['rating'].tolist()[0]\n",
    "                suir_ratings.append(r)\n",
    "    \n",
    "    \n",
    "    ##################rating computation###############################3\n",
    "    \n",
    "    \n",
    "    sum1=sum(similarity1)\n",
    "    if sum1!=0:\n",
    "        similarity_new1=[p/sum1 for p in similarity1]\n",
    "    else:\n",
    "        similarity_new1=[0 for p in similarity1]\n",
    "    sum2=sum(similarity2)\n",
    "    if sum2!=0:\n",
    "        similarity_new2=[p/sum2 for p in similarity2]\n",
    "    else:\n",
    "        similarity_new2=[0 for p in similarity2]\n",
    "    sum3=sum(suir)\n",
    "    if sum3!=0:\n",
    "        similarity_new3=[p/sum3 for p in suir]\n",
    "    else:\n",
    "         similarity_new3=[0 for p in suir]\n",
    "    pred=[[0 for u in range(10)] for t in range(10)] \n",
    "    \n",
    "    for p1,p2,p3 in zip(similarity_new1,similar_users,corres_rate1):\n",
    "        \n",
    "\n",
    "        p = p3 - (user_mean[int(p2)] - user_mean[usr])\n",
    "        \n",
    "        for e in range(0,10):\n",
    "            for d in range(0,10):\n",
    "                pred[e][d]+=(p*p1*Lambda[e]*(1-delta[d]))\n",
    "   \n",
    "    for p1,p2,p3 in zip(similarity_new2,similar_items,corres_rate2):\n",
    "        \n",
    "        p = p3  - (movies_mean[int(p2)][2] - movies_mean[mov][2])\n",
    "        for e in range(0,10):\n",
    "            for d in range(0,10):\n",
    "                pred[e][d]+=(p*p1*Lambda[e]*(1-delta[d]))\n",
    "   \n",
    "             \n",
    "    for p1,p2,p3,p4 in zip(similarity_new3,suir_user,suir_item,suir_ratings):\n",
    "        \n",
    "        p = p4 - (user_mean[int(p2)] - user_mean[usr]) - (movies_mean[int(p3)][2] - movies_mean[mov][2])\n",
    "        for e in range(0,10):\n",
    "            for d in range(0,10):\n",
    "                pred[e][d]+=(p*p1*Lambda[e]*(1-delta[d]))\n",
    "   \n",
    "    for e in range(0,10):\n",
    "        for d in range(0,10):\n",
    "            rmse[e][d]+=((actual-pred[e][d])**2)\n",
    "t2=time.time()\n"
   ]
  },
  {
   "cell_type": "code",
   "execution_count": 13,
   "metadata": {
    "collapsed": false
   },
   "outputs": [
    {
     "data": {
      "text/plain": [
       "25880"
      ]
     },
     "execution_count": 13,
     "metadata": {},
     "output_type": "execute_result"
    }
   ],
   "source": [
    "index"
   ]
  },
  {
   "cell_type": "code",
   "execution_count": null,
   "metadata": {
    "collapsed": true
   },
   "outputs": [],
   "source": []
  },
  {
   "cell_type": "code",
   "execution_count": 14,
   "metadata": {
    "collapsed": true
   },
   "outputs": [],
   "source": [
    "%matplotlib inline"
   ]
  },
  {
   "cell_type": "code",
   "execution_count": 15,
   "metadata": {
    "collapsed": true
   },
   "outputs": [],
   "source": [
    "for i in range(10):\n",
    "    for j in range(10):\n",
    "        rmse[i][j]=math.sqrt(rmse[i][j]/index)"
   ]
  },
  {
   "cell_type": "code",
   "execution_count": 16,
   "metadata": {
    "collapsed": false
   },
   "outputs": [
    {
     "data": {
      "text/plain": [
       "[[3.323630907776657,\n",
       "  3.323630907776657,\n",
       "  3.323630907776657,\n",
       "  3.323630907776657,\n",
       "  3.323630907776657,\n",
       "  3.323630907776657,\n",
       "  3.323630907776657,\n",
       "  3.323630907776657,\n",
       "  3.323630907776657,\n",
       "  3.323630907776657],\n",
       " [2.513717878437464,\n",
       "  2.5899962161881116,\n",
       "  2.6675705209675757,\n",
       "  2.74633097527878,\n",
       "  2.826178413368484,\n",
       "  2.907023267808203,\n",
       "  2.9887846011280956,\n",
       "  3.0713892233444735,\n",
       "  3.154770893042232,\n",
       "  3.238869597694596],\n",
       " [1.856329289489153,\n",
       "  1.9677723962633895,\n",
       "  2.0910511719880795,\n",
       "  2.2241984695941297,\n",
       "  2.365548496292705,\n",
       "  2.513717878437464,\n",
       "  2.6675705209675757,\n",
       "  2.8261784133684835,\n",
       "  2.9887846011280956,\n",
       "  3.154770893042232],\n",
       " [1.5582249475110839,\n",
       "  1.5933191212091318,\n",
       "  1.6781567178725028,\n",
       "  1.8057401336393404,\n",
       "  1.9677723962633897,\n",
       "  2.156502327733916,\n",
       "  2.365548496292705,\n",
       "  2.5899962161881116,\n",
       "  2.8261784133684844,\n",
       "  3.0713892233444735],\n",
       " [1.8069580073891736,\n",
       "  1.6455069903868904,\n",
       "  1.5643137095669142,\n",
       "  1.5758329924355896,\n",
       "  1.6781567178725028,\n",
       "  1.856329289489153,\n",
       "  2.0910511719880795,\n",
       "  2.365548496292705,\n",
       "  2.667570520967576,\n",
       "  2.9887846011280956],\n",
       " [2.4407079283030058,\n",
       "  2.0926563271833745,\n",
       "  1.8069580073891736,\n",
       "  1.6170081637341718,\n",
       "  1.5582249475110839,\n",
       "  1.6447328040921105,\n",
       "  1.856329289489153,\n",
       "  2.156502327733916,\n",
       "  2.513717878437464,\n",
       "  2.907023267808203],\n",
       " [3.24097806834384,\n",
       "  2.7483117666807853,\n",
       "  2.29570676379349,\n",
       "  1.911830216007471,\n",
       "  1.6455069903868902,\n",
       "  1.5582249475110839,\n",
       "  1.6781567178725028,\n",
       "  1.9677723962633893,\n",
       "  2.3655484962927056,\n",
       "  2.8261784133684844],\n",
       " [4.111660027906226,\n",
       "  3.4971008628489093,\n",
       "  2.909053849023244,\n",
       "  2.367358810957308,\n",
       "  1.911830216007471,\n",
       "  1.6170081637341718,\n",
       "  1.5758329924355896,\n",
       "  1.8057401336393402,\n",
       "  2.22419846959413,\n",
       "  2.7463309752787803],\n",
       " [5.016222007454336,\n",
       "  4.290536229644042,\n",
       "  3.583583610582743,\n",
       "  2.909053849023244,\n",
       "  2.29570676379349,\n",
       "  1.8069580073891736,\n",
       "  1.5643137095669142,\n",
       "  1.6781567178725028,\n",
       "  2.09105117198808,\n",
       "  2.667570520967576],\n",
       " [5.939203984411389,\n",
       "  5.107854505144482,\n",
       "  4.290536229644042,\n",
       "  3.4971008628489093,\n",
       "  2.7483117666807853,\n",
       "  2.0926563271833745,\n",
       "  1.6455069903868902,\n",
       "  1.5933191212091318,\n",
       "  1.96777239626339,\n",
       "  2.589996216188112]]"
      ]
     },
     "execution_count": 16,
     "metadata": {},
     "output_type": "execute_result"
    }
   ],
   "source": [
    "rmse"
   ]
  },
  {
   "cell_type": "code",
   "execution_count": 17,
   "metadata": {
    "collapsed": true
   },
   "outputs": [],
   "source": [
    "min_val=9999\n",
    "min_lambda=0\n",
    "min_delta=0"
   ]
  },
  {
   "cell_type": "code",
   "execution_count": 18,
   "metadata": {
    "collapsed": true
   },
   "outputs": [],
   "source": [
    "for i in range(10):\n",
    "    for j in range(10):\n",
    "        if min_val> rmse[i][j]:\n",
    "            min_val=rmse[i][j]\n",
    "            min_lambda=(i/10)\n",
    "            min_delta=(j/10)"
   ]
  },
  {
   "cell_type": "code",
   "execution_count": 19,
   "metadata": {
    "collapsed": false
   },
   "outputs": [
    {
     "data": {
      "text/plain": [
       "1.5582249475110839"
      ]
     },
     "execution_count": 19,
     "metadata": {},
     "output_type": "execute_result"
    }
   ],
   "source": [
    "min_val"
   ]
  },
  {
   "cell_type": "code",
   "execution_count": 20,
   "metadata": {
    "collapsed": false
   },
   "outputs": [
    {
     "data": {
      "text/plain": [
       "0.3"
      ]
     },
     "execution_count": 20,
     "metadata": {},
     "output_type": "execute_result"
    }
   ],
   "source": [
    "min_lambda"
   ]
  },
  {
   "cell_type": "code",
   "execution_count": 21,
   "metadata": {
    "collapsed": false
   },
   "outputs": [
    {
     "data": {
      "text/plain": [
       "0.0"
      ]
     },
     "execution_count": 21,
     "metadata": {},
     "output_type": "execute_result"
    }
   ],
   "source": [
    "min_delta"
   ]
  },
  {
   "cell_type": "code",
   "execution_count": null,
   "metadata": {
    "collapsed": true
   },
   "outputs": [],
   "source": []
  },
  {
   "cell_type": "code",
   "execution_count": 22,
   "metadata": {
    "collapsed": false
   },
   "outputs": [
    {
     "data": {
      "text/html": [
       "<div>\n",
       "<style>\n",
       "    .dataframe thead tr:only-child th {\n",
       "        text-align: right;\n",
       "    }\n",
       "\n",
       "    .dataframe thead th {\n",
       "        text-align: left;\n",
       "    }\n",
       "\n",
       "    .dataframe tbody tr th {\n",
       "        vertical-align: top;\n",
       "    }\n",
       "</style>\n",
       "<table border=\"1\" class=\"dataframe\">\n",
       "  <thead>\n",
       "    <tr style=\"text-align: right;\">\n",
       "      <th></th>\n",
       "      <th>itemId</th>\n",
       "      <th>rating</th>\n",
       "      <th>userId</th>\n",
       "    </tr>\n",
       "  </thead>\n",
       "  <tbody>\n",
       "    <tr>\n",
       "      <th>count</th>\n",
       "      <td>25881.000000</td>\n",
       "      <td>25881.000000</td>\n",
       "      <td>25881.000000</td>\n",
       "    </tr>\n",
       "    <tr>\n",
       "      <th>mean</th>\n",
       "      <td>51.119354</td>\n",
       "      <td>2.924771</td>\n",
       "      <td>7181.057301</td>\n",
       "    </tr>\n",
       "    <tr>\n",
       "      <th>std</th>\n",
       "      <td>46.378910</td>\n",
       "      <td>1.578577</td>\n",
       "      <td>4520.725639</td>\n",
       "    </tr>\n",
       "    <tr>\n",
       "      <th>min</th>\n",
       "      <td>1.000000</td>\n",
       "      <td>1.000000</td>\n",
       "      <td>1.000000</td>\n",
       "    </tr>\n",
       "    <tr>\n",
       "      <th>25%</th>\n",
       "      <td>18.000000</td>\n",
       "      <td>1.000000</td>\n",
       "      <td>3219.000000</td>\n",
       "    </tr>\n",
       "    <tr>\n",
       "      <th>50%</th>\n",
       "      <td>43.000000</td>\n",
       "      <td>3.000000</td>\n",
       "      <td>6868.000000</td>\n",
       "    </tr>\n",
       "    <tr>\n",
       "      <th>75%</th>\n",
       "      <td>62.000000</td>\n",
       "      <td>4.000000</td>\n",
       "      <td>11106.000000</td>\n",
       "    </tr>\n",
       "    <tr>\n",
       "      <th>max</th>\n",
       "      <td>573.000000</td>\n",
       "      <td>5.000000</td>\n",
       "      <td>15400.000000</td>\n",
       "    </tr>\n",
       "  </tbody>\n",
       "</table>\n",
       "</div>"
      ],
      "text/plain": [
       "             itemId        rating        userId\n",
       "count  25881.000000  25881.000000  25881.000000\n",
       "mean      51.119354      2.924771   7181.057301\n",
       "std       46.378910      1.578577   4520.725639\n",
       "min        1.000000      1.000000      1.000000\n",
       "25%       18.000000      1.000000   3219.000000\n",
       "50%       43.000000      3.000000   6868.000000\n",
       "75%       62.000000      4.000000  11106.000000\n",
       "max      573.000000      5.000000  15400.000000"
      ]
     },
     "execution_count": 22,
     "metadata": {},
     "output_type": "execute_result"
    }
   ],
   "source": [
    "holdout.describe()"
   ]
  },
  {
   "cell_type": "code",
   "execution_count": null,
   "metadata": {
    "collapsed": true
   },
   "outputs": [],
   "source": []
  },
  {
   "cell_type": "code",
   "execution_count": 23,
   "metadata": {
    "collapsed": true
   },
   "outputs": [],
   "source": [
    "#test set"
   ]
  },
  {
   "cell_type": "code",
   "execution_count": 24,
   "metadata": {
    "collapsed": true
   },
   "outputs": [],
   "source": [
    "\n",
    "t1 = time.time()\n",
    "\n",
    "predicted_rating=[];\n",
    "K=50\n",
    "Lambda =min_lambda \n",
    "delta =min_delta\n",
    "rmse =  0\n",
    "mae= 0\n",
    "gim = 0\n",
    "gpim=0\n",
    "c_gim=0\n",
    "c_gpim=0\n",
    "for index,i in test.iterrows():\n",
    "    \n",
    "    usr=int(i['userId'])\n",
    "    mov=int(i['itemId'])\n",
    "    actual=i['rating']\n",
    "    \n",
    "    list_user = train[train['userId']==usr]\n",
    "    list_item = train[train['itemId']==mov]\n",
    "    \n",
    "    ############### SUR #########################\n",
    "    similarity1=[]\n",
    "    corres_rate1=[]\n",
    "    similar_users=[]\n",
    "    for ind2,u in list_item.iterrows():\n",
    "        \n",
    "        c1=[]\n",
    "        c2=[]\n",
    "        c_user=int(u['userId'])\n",
    "        list_curuser=train[train['userId']==c_user]\n",
    "        xt=pd.merge(list_user,list_curuser,how='inner',on=['itemId'])\n",
    "        c1=xt['rating_x']\n",
    "        c2=xt['rating_y']\n",
    "        c1_list=c1.tolist()\n",
    "        c2_list=c2.tolist()\n",
    "        sim=0\n",
    "        if len(c1_list)!=0:\n",
    "            sim=(1-spatial.distance.cosine(c1_list,c2_list))\n",
    "        \n",
    "        similarity1.append(sim)\n",
    "        corres_rate1.append(u['rating'])\n",
    "        similar_users.append(u['userId'])\n",
    "    \n",
    "    corres_rate1 = [x for _,x in sorted(zip(similarity1,corres_rate1),reverse=True)]\n",
    "    similar_users=[x for _,x in sorted(zip(similarity1,similar_users),reverse=True)]\n",
    "    \n",
    "    similarity1.sort(reverse=True)\n",
    "    \n",
    "    corres_rate1=corres_rate1[0:K]\n",
    "    similarity1=similarity1[0:K]\n",
    "    similar_users=similar_users[0:K]\n",
    "    \n",
    "    \n",
    "    ############### SIR #########################\n",
    "    similarity2=[]\n",
    "    corres_rate2=[]\n",
    "    similar_items=[]\n",
    "    for ind3,u in list_user.iterrows():\n",
    "        \n",
    "        c1=[]\n",
    "        c2=[]\n",
    "        c_item=int(u['itemId'])\n",
    "        list_curitem=train[train['itemId']==c_item]\n",
    "        xt=pd.merge(list_item,list_curitem,how='inner',on=['userId'])\n",
    "        c1=xt['rating_x']\n",
    "        c2=xt['rating_y']\n",
    "        c1_list=c1.tolist()\n",
    "        c2_list=c2.tolist()\n",
    "        sim=0\n",
    "        if len(c1_list)!=0:\n",
    "            sim=(1-spatial.distance.cosine(c1_list,c2_list))\n",
    "        \n",
    "        similarity2.append(sim)\n",
    "        corres_rate2.append(u['rating'])\n",
    "        similar_items.append(u['itemId'])\n",
    "    \n",
    "    corres_rate2 = [x for _,x in sorted(zip(similarity2,corres_rate2),reverse=True)]\n",
    "    similar_items=[x for _,x in sorted(zip(similarity2,similar_items),reverse=True)]\n",
    "    \n",
    "    similarity2.sort(reverse=True)\n",
    "    \n",
    "    corres_rate2=corres_rate2[0:K]\n",
    "    similarity2=similarity2[0:K]\n",
    "    similar_items=similar_items[0:K]\n",
    "    \n",
    "    \n",
    "    \n",
    "    ############### SUIR #########################\n",
    "    suir=[]\n",
    "    suir_user=[]\n",
    "    suir_item=[]\n",
    "    suir_ratings=[]\n",
    "    for p1,p2 in zip(similarity1,similar_users):\n",
    "        x1=train[train['userId']==p2]\n",
    "        for q1,q2 in zip(similarity2,similar_items):\n",
    "            x2=x1[x1['itemId']==q2]\n",
    "            \n",
    "            if(x2.shape[0]!=0):\n",
    "                try:\n",
    "                    sui = 1/(math.sqrt( (1/p1) ** 2 + (1/q1) ** 2 ))\n",
    "                except ZeroDivisionError:\n",
    "                    sui = 0\n",
    "            \n",
    "                suir.append(sui)\n",
    "                suir_user.append(p2)\n",
    "                suir_item.append(q2)\n",
    "                r=x2['rating'].tolist()[0]\n",
    "                suir_ratings.append(r)\n",
    "    \n",
    "    \n",
    "    ##################rating computation###############################3\n",
    "    \n",
    "    \n",
    "    sum1=sum(similarity1)\n",
    "    if sum1!=0:\n",
    "        similarity_new1=[p/sum1 for p in similarity1]\n",
    "    else:\n",
    "        similarity_new1=[0 for p in similarity1]\n",
    "    sum2=sum(similarity2)\n",
    "    if sum2!=0:\n",
    "        similarity_new2=[p/sum2 for p in similarity2]\n",
    "    else:\n",
    "        similarity_new2=[0 for p in similarity2]\n",
    "    sum3=sum(suir)\n",
    "    if sum3!=0:\n",
    "        similarity_new3=[p/sum3 for p in suir]\n",
    "    else:\n",
    "         similarity_new3=[0 for p in suir]\n",
    "    pred=0 \n",
    "    \n",
    "    for p1,p2,p3 in zip(similarity_new1,similar_users,corres_rate1):\n",
    "        \n",
    "\n",
    "        p = p3 - (user_mean[int(p2)] - user_mean[usr])\n",
    "        pred+=(p*p1*Lambda*(1-delta))\n",
    "   \n",
    "    for p1,p2,p3 in zip(similarity_new2,similar_items,corres_rate2):\n",
    "        \n",
    "        p = p3  - (movies_mean[int(p2)][2] - movies_mean[mov][2])\n",
    "        pred+=(p*p1*Lambda*(1-delta))\n",
    "             \n",
    "    for p1,p2,p3,p4 in zip(similarity_new3,suir_user,suir_item,suir_ratings):\n",
    "        \n",
    "        p = p4 - (user_mean[int(p2)] - user_mean[usr]) - (movies_mean[int(p3)][2] - movies_mean[mov][2])\n",
    "        pred+=(p*p1*Lambda*(1-delta))\n",
    "    \n",
    "    rmse+=((actual-pred)**2)\n",
    "    mae+=(math.fabs(actual-pred))\n",
    "    if actual >3:\n",
    "        c_gim+=1\n",
    "        gim+=(math.fabs(actual-pred))\n",
    "    if pred > 3:\n",
    "        c_gpim+=1\n",
    "        gpim+=(math.fabs(actual-pred))\n",
    "t2=time.time()\n"
   ]
  },
  {
   "cell_type": "code",
   "execution_count": 25,
   "metadata": {
    "collapsed": false
   },
   "outputs": [
    {
     "data": {
      "text/plain": [
       "53999"
      ]
     },
     "execution_count": 25,
     "metadata": {},
     "output_type": "execute_result"
    }
   ],
   "source": [
    "index"
   ]
  },
  {
   "cell_type": "code",
   "execution_count": 26,
   "metadata": {
    "collapsed": false
   },
   "outputs": [
    {
     "data": {
      "text/plain": [
       "104328.37481975179"
      ]
     },
     "execution_count": 26,
     "metadata": {},
     "output_type": "execute_result"
    }
   ],
   "source": [
    "rmse"
   ]
  },
  {
   "cell_type": "code",
   "execution_count": 27,
   "metadata": {
    "collapsed": false
   },
   "outputs": [
    {
     "data": {
      "text/plain": [
       "1.3899793954139743"
      ]
     },
     "execution_count": 27,
     "metadata": {},
     "output_type": "execute_result"
    }
   ],
   "source": [
    "math.sqrt(rmse/index)"
   ]
  },
  {
   "cell_type": "code",
   "execution_count": 28,
   "metadata": {
    "collapsed": false
   },
   "outputs": [
    {
     "data": {
      "text/plain": [
       "1.1278460101074739"
      ]
     },
     "execution_count": 28,
     "metadata": {},
     "output_type": "execute_result"
    }
   ],
   "source": [
    "mae/index"
   ]
  },
  {
   "cell_type": "code",
   "execution_count": 29,
   "metadata": {
    "collapsed": false
   },
   "outputs": [
    {
     "data": {
      "text/plain": [
       "1.10234888226218"
      ]
     },
     "execution_count": 29,
     "metadata": {},
     "output_type": "execute_result"
    }
   ],
   "source": [
    "gim/c_gim"
   ]
  },
  {
   "cell_type": "code",
   "execution_count": 30,
   "metadata": {
    "collapsed": false
   },
   "outputs": [
    {
     "data": {
      "text/plain": [
       "1.5939397149499457"
      ]
     },
     "execution_count": 30,
     "metadata": {},
     "output_type": "execute_result"
    }
   ],
   "source": [
    "gpim/c_gpim"
   ]
  },
  {
   "cell_type": "code",
   "execution_count": null,
   "metadata": {
    "collapsed": true
   },
   "outputs": [],
   "source": []
  }
 ],
 "metadata": {
  "anaconda-cloud": {},
  "kernelspec": {
   "display_name": "Python [default]",
   "language": "python",
   "name": "python3"
  },
  "language_info": {
   "codemirror_mode": {
    "name": "ipython",
    "version": 3
   },
   "file_extension": ".py",
   "mimetype": "text/x-python",
   "name": "python",
   "nbconvert_exporter": "python",
   "pygments_lexer": "ipython3",
   "version": "3.5.2"
  }
 },
 "nbformat": 4,
 "nbformat_minor": 2
}
