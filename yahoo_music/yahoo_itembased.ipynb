{
 "cells": [
  {
   "cell_type": "code",
   "execution_count": 2,
   "metadata": {
    "collapsed": true
   },
   "outputs": [],
   "source": [
    "import numpy as np"
   ]
  },
  {
   "cell_type": "code",
   "execution_count": 3,
   "metadata": {
    "collapsed": true
   },
   "outputs": [],
   "source": [
    "import pandas as pd"
   ]
  },
  {
   "cell_type": "code",
   "execution_count": 4,
   "metadata": {
    "collapsed": true
   },
   "outputs": [],
   "source": [
    "from scipy import spatial"
   ]
  },
  {
   "cell_type": "code",
   "execution_count": 5,
   "metadata": {},
   "outputs": [],
   "source": [
    "train=pd.read_csv('ytrain.csv',usecols=[1,2,3])\n",
    "test=pd.read_csv('ytest.csv',usecols=[1,2,3])\n",
    "\n"
   ]
  },
  {
   "cell_type": "code",
   "execution_count": 6,
   "metadata": {
    "collapsed": true
   },
   "outputs": [],
   "source": [
    "import math"
   ]
  },
  {
   "cell_type": "code",
   "execution_count": 7,
   "metadata": {
    "collapsed": true
   },
   "outputs": [],
   "source": [
    "import time"
   ]
  },
  {
   "cell_type": "code",
   "execution_count": 10,
   "metadata": {},
   "outputs": [],
   "source": [
    "K=[i for i in range(1,121)]\n",
    "error=[0 for i in range(1,121)]\n",
    "mae=[0 for i in range(1,121)]\n",
    "gim=[0 for i in range(1,121)]\n",
    "gpim=[0 for i in range(1,121)]\n",
    "count_gim=[0 for i in range(1,121)]\n",
    "count_gpim=[0 for i in range(1,121)]\n",
    "t1=time.time()\n",
    "for index,i in test.iterrows():\n",
    "    predicted=0\n",
    "    usr=int(i['userId'])\n",
    "    mov=int(i['itemId'])\n",
    "    actual=i['rating']\n",
    "        \n",
    "    all_ratings_for_the_active_item=train[train['itemId']==mov]\n",
    "    list_of_movies_current_user_has_rated=train[train['itemId']==usr]\n",
    "    similarity=[]\n",
    "    corres_rate=[]\n",
    "    \n",
    "    for ind2,u in list_of_movies_current_user_has_rated.iterrows():\n",
    "        c1=[]\n",
    "        c2=[]\n",
    "        #c_user=int(u['userId'])\n",
    "        c_item=int(u['itemId'])\n",
    "        #list_curuser=train[train['userId']==c_user]\n",
    "        list_curitem=train[train['itemId']==c_item]\n",
    "        xt=pd.merge( all_ratings_for_the_active_item,list_curitem,how='inner',on=['userId'])\n",
    "        c1=xt['rating_x']\n",
    "        c2=xt['rating_y']\n",
    "        c1_list=c1.tolist()\n",
    "        c2_list=c2.tolist()\n",
    "        sim=0\n",
    "        if len(c1_list)!=0:\n",
    "            sim=(1-spatial.distance.cosine(c1_list,c2_list))\n",
    "        \n",
    "        similarity.append(sim)\n",
    "        corres_rate.append(u['rating'])\n",
    "        \n",
    "    corres_rate = [x for _,x in sorted(zip(similarity,corres_rate),reverse=True)]\n",
    "    similarity.sort(reverse=True)\n",
    "    #for k in K:\n",
    "    cs=0\n",
    "    numc=0\n",
    "    for k in K:\n",
    "        \n",
    "        if (k-1)>=len(similarity):\n",
    "            for m in range(k,121):\n",
    "                error[m-1]+=((actual-predicted)**2)\n",
    "                mae[m-1]+=(abs(actual-predicted))\n",
    "                if predicted >3:\n",
    "                    gpim[m-1]+=(abs(actual-predicted))\n",
    "                    count_gpim[m-1]+=1\n",
    "                if actual >3:\n",
    "                    gim[m-1]+=(abs(actual-predicted))\n",
    "                    count_gim[m-1]+=1\n",
    "                \n",
    "                \n",
    "                \n",
    "            break\n",
    "            \n",
    "            \n",
    "            \n",
    "            \n",
    "        cs+=similarity[k-1]\n",
    "        numc+=(similarity[k-1]*corres_rate[k-1])\n",
    "       \n",
    "        if cs!=0:\n",
    "            predicted=numc/cs\n",
    "        error[k-1]+=((actual-predicted)**2)\n",
    "        mae[k-1]+=(abs(actual-predicted))\n",
    "        if predicted >3:\n",
    "            gpim[k-1]+=(abs(actual-predicted))\n",
    "            count_gpim[k-1]+=1\n",
    "        if actual >3:\n",
    "            gim[k-1]+=(abs(actual-predicted))\n",
    "            count_gim[k-1]+=1\n",
    "        \n",
    "    \n",
    "    \n",
    "t2=time.time()        \n",
    "#print(math.sqrt(error/c))\n",
    "#print(math.sqrt(error/c))"
   ]
  },
  {
   "cell_type": "code",
   "execution_count": 11,
   "metadata": {
    "collapsed": true
   },
   "outputs": [],
   "source": [
    "%matplotlib inline"
   ]
  },
  {
   "cell_type": "code",
   "execution_count": 12,
   "metadata": {},
   "outputs": [
    {
     "data": {
      "text/plain": [
       "53999"
      ]
     },
     "execution_count": 12,
     "metadata": {},
     "output_type": "execute_result"
    }
   ],
   "source": [
    "index"
   ]
  },
  {
   "cell_type": "code",
   "execution_count": 13,
   "metadata": {
    "collapsed": true
   },
   "outputs": [],
   "source": [
    "error2=[math.sqrt(i/index) for i in error]"
   ]
  },
  {
   "cell_type": "code",
   "execution_count": 14,
   "metadata": {
    "collapsed": true
   },
   "outputs": [],
   "source": [
    "mae2=[i/index for i in mae]"
   ]
  },
  {
   "cell_type": "code",
   "execution_count": 15,
   "metadata": {
    "collapsed": true
   },
   "outputs": [],
   "source": [
    "gim2=[i/j for i,j in zip(gim,count_gim)]"
   ]
  },
  {
   "cell_type": "code",
   "execution_count": 16,
   "metadata": {
    "collapsed": true
   },
   "outputs": [],
   "source": [
    "gpim2=[i/j for i,j in zip(gpim,count_gpim)]"
   ]
  },
  {
   "cell_type": "code",
   "execution_count": null,
   "metadata": {
    "collapsed": true
   },
   "outputs": [],
   "source": []
  },
  {
   "cell_type": "code",
   "execution_count": null,
   "metadata": {
    "collapsed": true
   },
   "outputs": [],
   "source": []
  },
  {
   "cell_type": "code",
   "execution_count": 17,
   "metadata": {
    "collapsed": true
   },
   "outputs": [],
   "source": [
    "import matplotlib.pyplot as plt"
   ]
  },
  {
   "cell_type": "code",
   "execution_count": 18,
   "metadata": {},
   "outputs": [
    {
     "data": {
      "text/plain": [
       "[<matplotlib.lines.Line2D at 0x6b6e6505c0>]"
      ]
     },
     "execution_count": 18,
     "metadata": {},
     "output_type": "execute_result"
    },
    {
     "data": {
      "image/png": "[encoded data removed]",
      "text/plain": [
       "<matplotlib.figure.Figure at 0x6b6e14f2b0>"
      ]
     },
     "metadata": {},
     "output_type": "display_data"
    }
   ],
   "source": [
    "plt.plot(K,error2)"
   ]
  },
  {
   "cell_type": "code",
   "execution_count": 19,
   "metadata": {},
   "outputs": [
    {
     "data": {
      "text/plain": [
       "119"
      ]
     },
     "execution_count": 19,
     "metadata": {},
     "output_type": "execute_result"
    }
   ],
   "source": [
    " error2.index(min(error2))"
   ]
  },
  {
   "cell_type": "code",
   "execution_count": 20,
   "metadata": {},
   "outputs": [
    {
     "data": {
      "text/plain": [
       "2.1247863672243423"
      ]
     },
     "execution_count": 20,
     "metadata": {},
     "output_type": "execute_result"
    }
   ],
   "source": [
    "min(error2)"
   ]
  },
  {
   "cell_type": "code",
   "execution_count": 21,
   "metadata": {},
   "outputs": [
    {
     "data": {
      "text/plain": [
       "[<matplotlib.lines.Line2D at 0x6b6e71c4a8>]"
      ]
     },
     "execution_count": 21,
     "metadata": {},
     "output_type": "execute_result"
    },
    {
     "data": {
      "image/png": "[encoded data removed]",
      "text/plain": [
       "<matplotlib.figure.Figure at 0x6b6e67f2e8>"
      ]
     },
     "metadata": {},
     "output_type": "display_data"
    }
   ],
   "source": [
    "plt.plot(K,mae2)"
   ]
  },
  {
   "cell_type": "code",
   "execution_count": 22,
   "metadata": {},
   "outputs": [
    {
     "data": {
      "text/plain": [
       "119"
      ]
     },
     "execution_count": 22,
     "metadata": {},
     "output_type": "execute_result"
    }
   ],
   "source": [
    "mae2.index(min(mae2))"
   ]
  },
  {
   "cell_type": "code",
   "execution_count": 23,
   "metadata": {},
   "outputs": [
    {
     "data": {
      "text/plain": [
       "1.8330808971064545"
      ]
     },
     "execution_count": 23,
     "metadata": {},
     "output_type": "execute_result"
    }
   ],
   "source": [
    "min(mae2)"
   ]
  },
  {
   "cell_type": "code",
   "execution_count": 24,
   "metadata": {},
   "outputs": [
    {
     "data": {
      "text/plain": [
       "[<matplotlib.lines.Line2D at 0x6b6e7c2860>]"
      ]
     },
     "execution_count": 24,
     "metadata": {},
     "output_type": "execute_result"
    },
    {
     "data": {
      "image/png": "[encoded data removed]",
      "text/plain": [
       "<matplotlib.figure.Figure at 0x6b6e762ac8>"
      ]
     },
     "metadata": {},
     "output_type": "display_data"
    }
   ],
   "source": [
    "plt.plot(K,gim2)"
   ]
  },
  {
   "cell_type": "code",
   "execution_count": 25,
   "metadata": {},
   "outputs": [
    {
     "data": {
      "text/plain": [
       "6"
      ]
     },
     "execution_count": 25,
     "metadata": {},
     "output_type": "execute_result"
    }
   ],
   "source": [
    "gim2.index(min(gim2))"
   ]
  },
  {
   "cell_type": "code",
   "execution_count": 26,
   "metadata": {},
   "outputs": [
    {
     "data": {
      "text/plain": [
       "3.7240321270643446"
      ]
     },
     "execution_count": 26,
     "metadata": {},
     "output_type": "execute_result"
    }
   ],
   "source": [
    "min(gim2)"
   ]
  },
  {
   "cell_type": "code",
   "execution_count": 27,
   "metadata": {},
   "outputs": [
    {
     "data": {
      "text/plain": [
       "[<matplotlib.lines.Line2D at 0x6b6e859b38>]"
      ]
     },
     "execution_count": 27,
     "metadata": {},
     "output_type": "execute_result"
    },
    {
     "data": {
      "image/png": "[encoded data removed]",
      "text/plain": [
       "<matplotlib.figure.Figure at 0x6b6e7f3748>"
      ]
     },
     "metadata": {},
     "output_type": "display_data"
    }
   ],
   "source": [
    "plt.plot(K,gpim2)"
   ]
  },
  {
   "cell_type": "code",
   "execution_count": 28,
   "metadata": {},
   "outputs": [
    {
     "data": {
      "text/plain": [
       "119"
      ]
     },
     "execution_count": 28,
     "metadata": {},
     "output_type": "execute_result"
    }
   ],
   "source": [
    "gpim2.index(min(gpim2))"
   ]
  },
  {
   "cell_type": "code",
   "execution_count": 29,
   "metadata": {},
   "outputs": [
    {
     "data": {
      "text/plain": [
       "2.4229913897503228"
      ]
     },
     "execution_count": 29,
     "metadata": {},
     "output_type": "execute_result"
    }
   ],
   "source": [
    "min(gpim2)"
   ]
  },
  {
   "cell_type": "code",
   "execution_count": null,
   "metadata": {
    "collapsed": true
   },
   "outputs": [],
   "source": []
  }
 ],
 "metadata": {
  "kernelspec": {
   "display_name": "Python 3",
   "language": "python",
   "name": "python3"
  },
  "language_info": {
   "codemirror_mode": {
    "name": "ipython",
    "version": 3
   },
   "file_extension": ".py",
   "mimetype": "text/x-python",
   "name": "python",
   "nbconvert_exporter": "python",
   "pygments_lexer": "ipython3",
   "version": "3.6.1"
  }
 },
 "nbformat": 4,
 "nbformat_minor": 2
}
