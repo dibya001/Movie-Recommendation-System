{
 "cells": [
  {
   "cell_type": "code",
   "execution_count": 1,
   "metadata": {
    "collapsed": true
   },
   "outputs": [],
   "source": [
    "import numpy as np\n",
    "import pandas as pd\n",
    "import math\n",
    "import time\n",
    "import matplotlib.pyplot as plt\n",
    "from scipy import spatial\n",
    "from scipy.stats.stats import pearsonr"
   ]
  },
  {
   "cell_type": "code",
   "execution_count": 2,
   "metadata": {
    "collapsed": true
   },
   "outputs": [],
   "source": [
    "train=pd.read_csv('train.csv',usecols=[1,2,3])\n",
    "test=pd.read_csv('test.csv',usecols=[1,2,3])\n",
    "holdout=pd.read_csv('holdout.csv',usecols=[1,2,3])"
   ]
  },
  {
   "cell_type": "code",
   "execution_count": 4,
   "metadata": {
    "collapsed": false
   },
   "outputs": [
    {
     "data": {
      "text/html": [
       "<div>\n",
       "<style>\n",
       "    .dataframe thead tr:only-child th {\n",
       "        text-align: right;\n",
       "    }\n",
       "\n",
       "    .dataframe thead th {\n",
       "        text-align: left;\n",
       "    }\n",
       "\n",
       "    .dataframe tbody tr th {\n",
       "        vertical-align: top;\n",
       "    }\n",
       "</style>\n",
       "<table border=\"1\" class=\"dataframe\">\n",
       "  <thead>\n",
       "    <tr style=\"text-align: right;\">\n",
       "      <th></th>\n",
       "      <th>itemId</th>\n",
       "      <th>rating</th>\n",
       "      <th>userId</th>\n",
       "    </tr>\n",
       "  </thead>\n",
       "  <tbody>\n",
       "    <tr>\n",
       "      <th>0</th>\n",
       "      <td>1675.0</td>\n",
       "      <td>4.0</td>\n",
       "      <td>6161.0</td>\n",
       "    </tr>\n",
       "    <tr>\n",
       "      <th>1</th>\n",
       "      <td>6879.0</td>\n",
       "      <td>3.0</td>\n",
       "      <td>6679.0</td>\n",
       "    </tr>\n",
       "    <tr>\n",
       "      <th>2</th>\n",
       "      <td>2996.0</td>\n",
       "      <td>5.0</td>\n",
       "      <td>3855.0</td>\n",
       "    </tr>\n",
       "    <tr>\n",
       "      <th>3</th>\n",
       "      <td>1716.0</td>\n",
       "      <td>4.0</td>\n",
       "      <td>4071.0</td>\n",
       "    </tr>\n",
       "    <tr>\n",
       "      <th>4</th>\n",
       "      <td>2792.0</td>\n",
       "      <td>1.0</td>\n",
       "      <td>2510.0</td>\n",
       "    </tr>\n",
       "  </tbody>\n",
       "</table>\n",
       "</div>"
      ],
      "text/plain": [
       "   itemId  rating  userId\n",
       "0  1675.0     4.0  6161.0\n",
       "1  6879.0     3.0  6679.0\n",
       "2  2996.0     5.0  3855.0\n",
       "3  1716.0     4.0  4071.0\n",
       "4  2792.0     1.0  2510.0"
      ]
     },
     "execution_count": 4,
     "metadata": {},
     "output_type": "execute_result"
    }
   ],
   "source": [
    "train.head()"
   ]
  },
  {
   "cell_type": "code",
   "execution_count": 5,
   "metadata": {
    "collapsed": true
   },
   "outputs": [],
   "source": [
    "user_total=np.zeros(8141)\n",
    "cnt=np.zeros(8141,dtype='int64')"
   ]
  },
  {
   "cell_type": "code",
   "execution_count": 6,
   "metadata": {
    "collapsed": true
   },
   "outputs": [],
   "source": [
    "for i,j in train.iterrows():\n",
    "    k=int(j['rating'])\n",
    "    cnt[k]+=1"
   ]
  },
  {
   "cell_type": "code",
   "execution_count": 7,
   "metadata": {
    "collapsed": true
   },
   "outputs": [],
   "source": [
    "movies_mean=np.zeros(shape=[9318,3])"
   ]
  },
  {
   "cell_type": "code",
   "execution_count": 8,
   "metadata": {
    "collapsed": true
   },
   "outputs": [],
   "source": [
    "user_total=np.zeros(8141)\n",
    "cnt=np.zeros(8141,dtype='int64')\n",
    "for i,j in train.iterrows():\n",
    "    k=int(j['userId'])\n",
    "    cnt[k]+=1\n",
    "    user_total[k]+=j['rating']\n",
    "    p=int(j['itemId'])\n",
    "    movies_mean[p][0]+=1\n",
    "    movies_mean[p][1]+=j['rating']"
   ]
  },
  {
   "cell_type": "code",
   "execution_count": 9,
   "metadata": {
    "collapsed": false
   },
   "outputs": [
    {
     "name": "stderr",
     "output_type": "stream",
     "text": [
      "C:\\Users\\ADMIN\\Anaconda3\\lib\\site-packages\\ipykernel_launcher.py:3: RuntimeWarning: invalid value encountered in double_scalars\n",
      "  This is separate from the ipykernel package so we can avoid doing imports until\n"
     ]
    }
   ],
   "source": [
    "user_mean=np.array([ i/j for i,j in zip(user_total,cnt) ])\n",
    "for x in movies_mean:\n",
    "    x[2]=round(x[1]/x[0],2)\n",
    "    \n",
    "for x in movies_mean:\n",
    "    if math.isnan(x[2]):\n",
    "        x[2]=0\n",
    "for i in range(len(user_mean)):\n",
    "    if math.isnan(user_mean[i]):\n",
    "        user_mean[i]=0"
   ]
  },
  {
   "cell_type": "code",
   "execution_count": 10,
   "metadata": {
    "collapsed": true,
    "scrolled": true
   },
   "outputs": [],
   "source": [
    "\n",
    "t1 = time.time()\n",
    "\n",
    "predicted_rating=[];\n",
    "K=50\n",
    "rmse=[[0 for i in range(10)] for j in range(10)]\n",
    "Lambda=[0,0.1,0.2,0.3,0.4,0.5,0.6,0.7,0.8,0.9]\n",
    "delta=[0,0.1,0.2,0.3,0.4,0.5,0.6,0.7,0.8,0.9]\n",
    "for index,i in holdout.iterrows():\n",
    "    \n",
    "    usr=int(i['userId'])\n",
    "    mov=int(i['itemId'])\n",
    "    actual=i['rating']\n",
    "    \n",
    "    list_user = train[train['userId']==usr]\n",
    "    list_item = train[train['itemId']==mov]\n",
    "    \n",
    "    ############### SUR #########################\n",
    "    similarity1=[]\n",
    "    corres_rate1=[]\n",
    "    similar_users=[]\n",
    "    for ind2,u in list_item.iterrows():\n",
    "        \n",
    "        c1=[]\n",
    "        c2=[]\n",
    "        c_user=int(u['userId'])\n",
    "        list_curuser=train[train['userId']==c_user]\n",
    "        xt=pd.merge(list_user,list_curuser,how='inner',on=['itemId'])\n",
    "        c1=xt['rating_x']\n",
    "        c2=xt['rating_y']\n",
    "        c1_list=c1.tolist()\n",
    "        c2_list=c2.tolist()\n",
    "        sim=0\n",
    "        if len(c1_list)!=0:\n",
    "            sim=(1-spatial.distance.cosine(c1_list,c2_list))\n",
    "        \n",
    "        similarity1.append(sim)\n",
    "        corres_rate1.append(u['rating'])\n",
    "        similar_users.append(u['userId'])\n",
    "    \n",
    "    corres_rate1 = [x for _,x in sorted(zip(similarity1,corres_rate1),reverse=True)]\n",
    "    similar_users=[x for _,x in sorted(zip(similarity1,similar_users),reverse=True)]\n",
    "    \n",
    "    similarity1.sort(reverse=True)\n",
    "    \n",
    "    corres_rate1=corres_rate1[0:K]\n",
    "    similarity1=similarity1[0:K]\n",
    "    similar_users=similar_users[0:K]\n",
    "    \n",
    "    \n",
    "    ############### SIR #########################\n",
    "    similarity2=[]\n",
    "    corres_rate2=[]\n",
    "    similar_items=[]\n",
    "    for ind3,u in list_user.iterrows():\n",
    "        \n",
    "        c1=[]\n",
    "        c2=[]\n",
    "        c_item=int(u['itemId'])\n",
    "        list_curitem=train[train['itemId']==c_item]\n",
    "        xt=pd.merge(list_item,list_curitem,how='inner',on=['userId'])\n",
    "        c1=xt['rating_x']\n",
    "        c2=xt['rating_y']\n",
    "        c1_list=c1.tolist()\n",
    "        c2_list=c2.tolist()\n",
    "        sim=0\n",
    "        if len(c1_list)!=0:\n",
    "            sim=(1-spatial.distance.cosine(c1_list,c2_list))\n",
    "        \n",
    "        similarity2.append(sim)\n",
    "        corres_rate2.append(u['rating'])\n",
    "        similar_items.append(u['itemId'])\n",
    "    \n",
    "    corres_rate2 = [x for _,x in sorted(zip(similarity2,corres_rate2),reverse=True)]\n",
    "    similar_items=[x for _,x in sorted(zip(similarity2,similar_items),reverse=True)]\n",
    "    \n",
    "    similarity2.sort(reverse=True)\n",
    "    \n",
    "    corres_rate2=corres_rate2[0:K]\n",
    "    similarity2=similarity2[0:K]\n",
    "    similar_items=similar_items[0:K]\n",
    "    \n",
    "    \n",
    "    \n",
    "    ############### SUIR #########################\n",
    "    suir=[]\n",
    "    suir_user=[]\n",
    "    suir_item=[]\n",
    "    suir_ratings=[]\n",
    "    for p1,p2 in zip(similarity1,similar_users):\n",
    "        x1=train[train['userId']==p2]\n",
    "        for q1,q2 in zip(similarity2,similar_items):\n",
    "            x2=x1[x1['itemId']==q2]\n",
    "            \n",
    "            if(x2.shape[0]!=0):\n",
    "                try:\n",
    "                    sui = 1/(math.sqrt( (1/p1) ** 2 + (1/q1) ** 2 ))\n",
    "                except ZeroDivisionError:\n",
    "                    sui = 0\n",
    "            \n",
    "                suir.append(sui)\n",
    "                suir_user.append(p2)\n",
    "                suir_item.append(q2)\n",
    "                r=x2['rating'].tolist()[0]\n",
    "                suir_ratings.append(r)\n",
    "    \n",
    "    \n",
    "    ##################rating computation###############################3\n",
    "    \n",
    "    \n",
    "    sum1=sum(similarity1)\n",
    "    if sum1!=0:\n",
    "        similarity_new1=[p/sum1 for p in similarity1]\n",
    "    else:\n",
    "        similarity_new1=[0 for p in similarity1]\n",
    "    sum2=sum(similarity2)\n",
    "    if sum2!=0:\n",
    "        similarity_new2=[p/sum2 for p in similarity2]\n",
    "    else:\n",
    "        similarity_new2=[0 for p in similarity2]\n",
    "    sum3=sum(suir)\n",
    "    if sum3!=0:\n",
    "        similarity_new3=[p/sum3 for p in suir]\n",
    "    else:\n",
    "         similarity_new3=[0 for p in suir]\n",
    "    pred=[[0 for u in range(10)] for t in range(10)] \n",
    "    \n",
    "    for p1,p2,p3 in zip(similarity_new1,similar_users,corres_rate1):\n",
    "        \n",
    "\n",
    "        p = p3 - (user_mean[int(p2)] - user_mean[usr])\n",
    "        \n",
    "        for e in range(0,10):\n",
    "            for d in range(0,10):\n",
    "                pred[e][d]+=(p*p1*Lambda[e]*(1-delta[d]))\n",
    "   \n",
    "    for p1,p2,p3 in zip(similarity_new2,similar_items,corres_rate2):\n",
    "        \n",
    "        p = p3  - (movies_mean[int(p2)][2] - movies_mean[mov][2])\n",
    "        for e in range(0,10):\n",
    "            for d in range(0,10):\n",
    "                pred[e][d]+=(p*p1*Lambda[e]*(1-delta[d]))\n",
    "   \n",
    "             \n",
    "    for p1,p2,p3,p4 in zip(similarity_new3,suir_user,suir_item,suir_ratings):\n",
    "        \n",
    "        p = p4 - (user_mean[int(p2)] - user_mean[usr]) - (movies_mean[int(p3)][2] - movies_mean[mov][2])\n",
    "        for e in range(0,10):\n",
    "            for d in range(0,10):\n",
    "                pred[e][d]+=(p*p1*Lambda[e]*(1-delta[d]))\n",
    "   \n",
    "    for e in range(0,10):\n",
    "        for d in range(0,10):\n",
    "            rmse[e][d]+=((actual-pred[e][d])**2)\n",
    "t2=time.time()\n"
   ]
  },
  {
   "cell_type": "code",
   "execution_count": 11,
   "metadata": {
    "collapsed": false
   },
   "outputs": [
    {
     "data": {
      "text/plain": [
       "15411"
      ]
     },
     "execution_count": 11,
     "metadata": {},
     "output_type": "execute_result"
    }
   ],
   "source": [
    "index"
   ]
  },
  {
   "cell_type": "code",
   "execution_count": null,
   "metadata": {
    "collapsed": true
   },
   "outputs": [],
   "source": []
  },
  {
   "cell_type": "code",
   "execution_count": 12,
   "metadata": {
    "collapsed": true
   },
   "outputs": [],
   "source": [
    "%matplotlib inline"
   ]
  },
  {
   "cell_type": "code",
   "execution_count": 13,
   "metadata": {
    "collapsed": true
   },
   "outputs": [],
   "source": [
    "for i in range(10):\n",
    "    for j in range(10):\n",
    "        rmse[i][j]=math.sqrt(rmse[i][j]/index)"
   ]
  },
  {
   "cell_type": "code",
   "execution_count": 14,
   "metadata": {
    "collapsed": false
   },
   "outputs": [
    {
     "data": {
      "text/plain": [
       "[[3.6652565406874285,\n",
       "  3.6652565406874285,\n",
       "  3.6652565406874285,\n",
       "  3.6652565406874285,\n",
       "  3.6652565406874285,\n",
       "  3.6652565406874285,\n",
       "  3.6652565406874285,\n",
       "  3.6652565406874285,\n",
       "  3.6652565406874285,\n",
       "  3.6652565406874285],\n",
       " [3.041310427444559,\n",
       "  3.0982505692107467,\n",
       "  3.1565879768412315,\n",
       "  3.2162466189418475,\n",
       "  3.2771543394480704,\n",
       "  3.3392427895653354,\n",
       "  3.4024473314302934,\n",
       "  3.4667069202692002,\n",
       "  3.5319639708411517,\n",
       "  3.5981642130383436],\n",
       " [2.568149521025077,\n",
       "  2.646469091818663,\n",
       "  2.7337556063281725,\n",
       "  2.8291792353753533,\n",
       "  2.9319455905927865,\n",
       "  3.041310427444559,\n",
       "  3.1565879768412315,\n",
       "  3.2771543394480704,\n",
       "  3.4024473314302934,\n",
       "  3.5319639708411517],\n",
       " [2.3391395956263494,\n",
       "  2.3765587941522557,\n",
       "  2.441766100147252,\n",
       "  2.5326160398143007,\n",
       "  2.6464690918186635,\n",
       "  2.780500968226545,\n",
       "  2.9319455905927865,\n",
       "  3.0982505692107467,\n",
       "  3.2771543394480713,\n",
       "  3.4667069202692002],\n",
       " [2.4244824958204902,\n",
       "  2.351989739337208,\n",
       "  2.3303333610518915,\n",
       "  2.360912724264003,\n",
       "  2.441766100147252,\n",
       "  2.568149521025077,\n",
       "  2.7337556063281725,\n",
       "  2.931945590592786,\n",
       "  3.1565879768412315,\n",
       "  3.4024473314302934],\n",
       " [2.7955350000456525,\n",
       "  2.57978114374198,\n",
       "  2.4244824958204902,\n",
       "  2.3416980602289534,\n",
       "  2.3391395956263494,\n",
       "  2.4170618734696787,\n",
       "  2.568149521025077,\n",
       "  2.7805009682265447,\n",
       "  3.041310427444559,\n",
       "  3.3392427895653354],\n",
       " [3.358909903472822,\n",
       "  3.0030445799288343,\n",
       "  2.702814659674978,\n",
       "  2.478521080440872,\n",
       "  2.351989739337208,\n",
       "  2.3391395956263494,\n",
       "  2.441766100147252,\n",
       "  2.6464690918186635,\n",
       "  2.9319455905927865,\n",
       "  3.2771543394480713],\n",
       " [4.034835161694059,\n",
       "  3.552586907064683,\n",
       "  3.1163646624991626,\n",
       "  2.748173887206004,\n",
       "  2.4785210804408724,\n",
       "  2.3416980602289534,\n",
       "  2.360912724264003,\n",
       "  2.5326160398143007,\n",
       "  2.8291792353753533,\n",
       "  3.2162466189418475],\n",
       " [4.775758899239455,\n",
       "  4.178882829085901,\n",
       "  3.619071738429414,\n",
       "  3.1163646624991626,\n",
       "  2.7028146596749782,\n",
       "  2.4244824958204902,\n",
       "  2.3303333610518915,\n",
       "  2.441766100147252,\n",
       "  2.733755606328173,\n",
       "  3.1565879768412315],\n",
       " [5.555736727429974,\n",
       "  4.852302613191456,\n",
       "  4.178882829085901,\n",
       "  3.552586907064683,\n",
       "  3.0030445799288343,\n",
       "  2.57978114374198,\n",
       "  2.351989739337208,\n",
       "  2.376558794152256,\n",
       "  2.6464690918186635,\n",
       "  3.0982505692107467]]"
      ]
     },
     "execution_count": 14,
     "metadata": {},
     "output_type": "execute_result"
    }
   ],
   "source": [
    "rmse"
   ]
  },
  {
   "cell_type": "code",
   "execution_count": 15,
   "metadata": {
    "collapsed": true
   },
   "outputs": [],
   "source": [
    "min_val=9999\n",
    "min_lambda=0\n",
    "min_delta=0"
   ]
  },
  {
   "cell_type": "code",
   "execution_count": 16,
   "metadata": {
    "collapsed": true
   },
   "outputs": [],
   "source": [
    "for i in range(10):\n",
    "    for j in range(10):\n",
    "        if min_val> rmse[i][j]:\n",
    "            min_val=rmse[i][j]\n",
    "            min_lambda=(i/10)\n",
    "            min_delta=(j/10)"
   ]
  },
  {
   "cell_type": "code",
   "execution_count": 17,
   "metadata": {
    "collapsed": false
   },
   "outputs": [
    {
     "data": {
      "text/plain": [
       "2.3303333610518915"
      ]
     },
     "execution_count": 17,
     "metadata": {},
     "output_type": "execute_result"
    }
   ],
   "source": [
    "min_val"
   ]
  },
  {
   "cell_type": "code",
   "execution_count": 18,
   "metadata": {
    "collapsed": false
   },
   "outputs": [
    {
     "data": {
      "text/plain": [
       "0.4"
      ]
     },
     "execution_count": 18,
     "metadata": {},
     "output_type": "execute_result"
    }
   ],
   "source": [
    "min_lambda"
   ]
  },
  {
   "cell_type": "code",
   "execution_count": 19,
   "metadata": {
    "collapsed": false
   },
   "outputs": [
    {
     "data": {
      "text/plain": [
       "0.2"
      ]
     },
     "execution_count": 19,
     "metadata": {},
     "output_type": "execute_result"
    }
   ],
   "source": [
    "min_delta"
   ]
  },
  {
   "cell_type": "code",
   "execution_count": null,
   "metadata": {
    "collapsed": true
   },
   "outputs": [],
   "source": []
  },
  {
   "cell_type": "code",
   "execution_count": 20,
   "metadata": {
    "collapsed": false
   },
   "outputs": [
    {
     "data": {
      "text/html": [
       "<div>\n",
       "<style>\n",
       "    .dataframe thead tr:only-child th {\n",
       "        text-align: right;\n",
       "    }\n",
       "\n",
       "    .dataframe thead th {\n",
       "        text-align: left;\n",
       "    }\n",
       "\n",
       "    .dataframe tbody tr th {\n",
       "        vertical-align: top;\n",
       "    }\n",
       "</style>\n",
       "<table border=\"1\" class=\"dataframe\">\n",
       "  <thead>\n",
       "    <tr style=\"text-align: right;\">\n",
       "      <th></th>\n",
       "      <th>itemId</th>\n",
       "      <th>rating</th>\n",
       "      <th>userId</th>\n",
       "    </tr>\n",
       "  </thead>\n",
       "  <tbody>\n",
       "    <tr>\n",
       "      <th>count</th>\n",
       "      <td>15412.000000</td>\n",
       "      <td>15412.000000</td>\n",
       "      <td>15412.000000</td>\n",
       "    </tr>\n",
       "    <tr>\n",
       "      <th>mean</th>\n",
       "      <td>7827.907734</td>\n",
       "      <td>3.482806</td>\n",
       "      <td>4041.722813</td>\n",
       "    </tr>\n",
       "    <tr>\n",
       "      <th>std</th>\n",
       "      <td>537.081641</td>\n",
       "      <td>1.141658</td>\n",
       "      <td>2378.992992</td>\n",
       "    </tr>\n",
       "    <tr>\n",
       "      <th>min</th>\n",
       "      <td>3629.000000</td>\n",
       "      <td>1.000000</td>\n",
       "      <td>1.000000</td>\n",
       "    </tr>\n",
       "    <tr>\n",
       "      <th>25%</th>\n",
       "      <td>7534.000000</td>\n",
       "      <td>3.000000</td>\n",
       "      <td>1849.000000</td>\n",
       "    </tr>\n",
       "    <tr>\n",
       "      <th>50%</th>\n",
       "      <td>7873.000000</td>\n",
       "      <td>4.000000</td>\n",
       "      <td>3954.000000</td>\n",
       "    </tr>\n",
       "    <tr>\n",
       "      <th>75%</th>\n",
       "      <td>8186.000000</td>\n",
       "      <td>4.000000</td>\n",
       "      <td>6161.000000</td>\n",
       "    </tr>\n",
       "    <tr>\n",
       "      <th>max</th>\n",
       "      <td>9255.000000</td>\n",
       "      <td>5.000000</td>\n",
       "      <td>8138.000000</td>\n",
       "    </tr>\n",
       "  </tbody>\n",
       "</table>\n",
       "</div>"
      ],
      "text/plain": [
       "             itemId        rating        userId\n",
       "count  15412.000000  15412.000000  15412.000000\n",
       "mean    7827.907734      3.482806   4041.722813\n",
       "std      537.081641      1.141658   2378.992992\n",
       "min     3629.000000      1.000000      1.000000\n",
       "25%     7534.000000      3.000000   1849.000000\n",
       "50%     7873.000000      4.000000   3954.000000\n",
       "75%     8186.000000      4.000000   6161.000000\n",
       "max     9255.000000      5.000000   8138.000000"
      ]
     },
     "execution_count": 20,
     "metadata": {},
     "output_type": "execute_result"
    }
   ],
   "source": [
    "holdout.describe()"
   ]
  },
  {
   "cell_type": "code",
   "execution_count": null,
   "metadata": {
    "collapsed": true
   },
   "outputs": [],
   "source": []
  },
  {
   "cell_type": "code",
   "execution_count": 21,
   "metadata": {
    "collapsed": true
   },
   "outputs": [],
   "source": [
    "#test set"
   ]
  },
  {
   "cell_type": "code",
   "execution_count": 22,
   "metadata": {
    "collapsed": true
   },
   "outputs": [],
   "source": [
    "\n",
    "t1 = time.time()\n",
    "\n",
    "predicted_rating=[];\n",
    "K=50\n",
    "Lambda =min_lambda \n",
    "delta =min_delta\n",
    "rmse =  0\n",
    "mae= 0\n",
    "gim = 0\n",
    "gpim=0\n",
    "c_gim=0\n",
    "c_gpim=0\n",
    "for index,i in test.iterrows():\n",
    "    \n",
    "    usr=int(i['userId'])\n",
    "    mov=int(i['itemId'])\n",
    "    actual=i['rating']\n",
    "    \n",
    "    list_user = train[train['userId']==usr]\n",
    "    list_item = train[train['itemId']==mov]\n",
    "    \n",
    "    ############### SUR #########################\n",
    "    similarity1=[]\n",
    "    corres_rate1=[]\n",
    "    similar_users=[]\n",
    "    for ind2,u in list_item.iterrows():\n",
    "        \n",
    "        c1=[]\n",
    "        c2=[]\n",
    "        c_user=int(u['userId'])\n",
    "        list_curuser=train[train['userId']==c_user]\n",
    "        xt=pd.merge(list_user,list_curuser,how='inner',on=['itemId'])\n",
    "        c1=xt['rating_x']\n",
    "        c2=xt['rating_y']\n",
    "        c1_list=c1.tolist()\n",
    "        c2_list=c2.tolist()\n",
    "        sim=0\n",
    "        if len(c1_list)!=0:\n",
    "            sim=(1-spatial.distance.cosine(c1_list,c2_list))\n",
    "        \n",
    "        similarity1.append(sim)\n",
    "        corres_rate1.append(u['rating'])\n",
    "        similar_users.append(u['userId'])\n",
    "    \n",
    "    corres_rate1 = [x for _,x in sorted(zip(similarity1,corres_rate1),reverse=True)]\n",
    "    similar_users=[x for _,x in sorted(zip(similarity1,similar_users),reverse=True)]\n",
    "    \n",
    "    similarity1.sort(reverse=True)\n",
    "    \n",
    "    corres_rate1=corres_rate1[0:K]\n",
    "    similarity1=similarity1[0:K]\n",
    "    similar_users=similar_users[0:K]\n",
    "    \n",
    "    \n",
    "    ############### SIR #########################\n",
    "    similarity2=[]\n",
    "    corres_rate2=[]\n",
    "    similar_items=[]\n",
    "    for ind3,u in list_user.iterrows():\n",
    "        \n",
    "        c1=[]\n",
    "        c2=[]\n",
    "        c_item=int(u['itemId'])\n",
    "        list_curitem=train[train['itemId']==c_item]\n",
    "        xt=pd.merge(list_item,list_curitem,how='inner',on=['userId'])\n",
    "        c1=xt['rating_x']\n",
    "        c2=xt['rating_y']\n",
    "        c1_list=c1.tolist()\n",
    "        c2_list=c2.tolist()\n",
    "        sim=0\n",
    "        if len(c1_list)!=0:\n",
    "            sim=(1-spatial.distance.cosine(c1_list,c2_list))\n",
    "        \n",
    "        similarity2.append(sim)\n",
    "        corres_rate2.append(u['rating'])\n",
    "        similar_items.append(u['itemId'])\n",
    "    \n",
    "    corres_rate2 = [x for _,x in sorted(zip(similarity2,corres_rate2),reverse=True)]\n",
    "    similar_items=[x for _,x in sorted(zip(similarity2,similar_items),reverse=True)]\n",
    "    \n",
    "    similarity2.sort(reverse=True)\n",
    "    \n",
    "    corres_rate2=corres_rate2[0:K]\n",
    "    similarity2=similarity2[0:K]\n",
    "    similar_items=similar_items[0:K]\n",
    "    \n",
    "    \n",
    "    \n",
    "    ############### SUIR #########################\n",
    "    suir=[]\n",
    "    suir_user=[]\n",
    "    suir_item=[]\n",
    "    suir_ratings=[]\n",
    "    for p1,p2 in zip(similarity1,similar_users):\n",
    "        x1=train[train['userId']==p2]\n",
    "        for q1,q2 in zip(similarity2,similar_items):\n",
    "            x2=x1[x1['itemId']==q2]\n",
    "            \n",
    "            if(x2.shape[0]!=0):\n",
    "                try:\n",
    "                    sui = 1/(math.sqrt( (1/p1) ** 2 + (1/q1) ** 2 ))\n",
    "                except ZeroDivisionError:\n",
    "                    sui = 0\n",
    "            \n",
    "                suir.append(sui)\n",
    "                suir_user.append(p2)\n",
    "                suir_item.append(q2)\n",
    "                r=x2['rating'].tolist()[0]\n",
    "                suir_ratings.append(r)\n",
    "    \n",
    "    \n",
    "    ##################rating computation###############################3\n",
    "    \n",
    "    \n",
    "    sum1=sum(similarity1)\n",
    "    if sum1!=0:\n",
    "        similarity_new1=[p/sum1 for p in similarity1]\n",
    "    else:\n",
    "        similarity_new1=[0 for p in similarity1]\n",
    "    sum2=sum(similarity2)\n",
    "    if sum2!=0:\n",
    "        similarity_new2=[p/sum2 for p in similarity2]\n",
    "    else:\n",
    "        similarity_new2=[0 for p in similarity2]\n",
    "    sum3=sum(suir)\n",
    "    if sum3!=0:\n",
    "        similarity_new3=[p/sum3 for p in suir]\n",
    "    else:\n",
    "         similarity_new3=[0 for p in suir]\n",
    "    pred=0 \n",
    "    \n",
    "    for p1,p2,p3 in zip(similarity_new1,similar_users,corres_rate1):\n",
    "        \n",
    "\n",
    "        p = p3 - (user_mean[int(p2)] - user_mean[usr])\n",
    "        pred+=(p*p1*Lambda*(1-delta))\n",
    "   \n",
    "    for p1,p2,p3 in zip(similarity_new2,similar_items,corres_rate2):\n",
    "        \n",
    "        p = p3  - (movies_mean[int(p2)][2] - movies_mean[mov][2])\n",
    "        pred+=(p*p1*Lambda*(1-delta))\n",
    "             \n",
    "    for p1,p2,p3,p4 in zip(similarity_new3,suir_user,suir_item,suir_ratings):\n",
    "        \n",
    "        p = p4 - (user_mean[int(p2)] - user_mean[usr]) - (movies_mean[int(p3)][2] - movies_mean[mov][2])\n",
    "        pred+=(p*p1*Lambda*(1-delta))\n",
    "    \n",
    "    rmse+=((actual-pred)**2)\n",
    "    mae+=(math.fabs(actual-pred))\n",
    "    if actual >3:\n",
    "        c_gim+=1\n",
    "        gim+=(math.fabs(actual-pred))\n",
    "    if pred > 3:\n",
    "        c_gpim+=1\n",
    "        gpim+=(math.fabs(actual-pred))\n",
    "t2=time.time()\n"
   ]
  },
  {
   "cell_type": "code",
   "execution_count": 23,
   "metadata": {
    "collapsed": false
   },
   "outputs": [
    {
     "data": {
      "text/plain": [
       "21231"
      ]
     },
     "execution_count": 23,
     "metadata": {},
     "output_type": "execute_result"
    }
   ],
   "source": [
    "index"
   ]
  },
  {
   "cell_type": "code",
   "execution_count": 24,
   "metadata": {
    "collapsed": false
   },
   "outputs": [
    {
     "data": {
      "text/plain": [
       "215349.85085980027"
      ]
     },
     "execution_count": 24,
     "metadata": {},
     "output_type": "execute_result"
    }
   ],
   "source": [
    "rmse"
   ]
  },
  {
   "cell_type": "code",
   "execution_count": 25,
   "metadata": {
    "collapsed": false
   },
   "outputs": [
    {
     "data": {
      "text/plain": [
       "3.1848359180301746"
      ]
     },
     "execution_count": 25,
     "metadata": {},
     "output_type": "execute_result"
    }
   ],
   "source": [
    "math.sqrt(rmse/index)"
   ]
  },
  {
   "cell_type": "code",
   "execution_count": 26,
   "metadata": {
    "collapsed": false
   },
   "outputs": [
    {
     "data": {
      "text/plain": [
       "2.781992635876033"
      ]
     },
     "execution_count": 26,
     "metadata": {},
     "output_type": "execute_result"
    }
   ],
   "source": [
    "mae/index"
   ]
  },
  {
   "cell_type": "code",
   "execution_count": 27,
   "metadata": {
    "collapsed": false
   },
   "outputs": [
    {
     "data": {
      "text/plain": [
       "3.3707477715944516"
      ]
     },
     "execution_count": 27,
     "metadata": {},
     "output_type": "execute_result"
    }
   ],
   "source": [
    "gim/c_gim"
   ]
  },
  {
   "cell_type": "code",
   "execution_count": 28,
   "metadata": {
    "collapsed": false
   },
   "outputs": [
    {
     "data": {
      "text/plain": [
       "0.8027568426235961"
      ]
     },
     "execution_count": 28,
     "metadata": {},
     "output_type": "execute_result"
    }
   ],
   "source": [
    "gpim/c_gpim"
   ]
  },
  {
   "cell_type": "code",
   "execution_count": null,
   "metadata": {
    "collapsed": true
   },
   "outputs": [],
   "source": []
  }
 ],
 "metadata": {
  "anaconda-cloud": {},
  "kernelspec": {
   "display_name": "Python [default]",
   "language": "python",
   "name": "python3"
  },
  "language_info": {
   "codemirror_mode": {
    "name": "ipython",
    "version": 3
   },
   "file_extension": ".py",
   "mimetype": "text/x-python",
   "name": "python",
   "nbconvert_exporter": "python",
   "pygments_lexer": "ipython3",
   "version": "3.5.2"
  }
 },
 "nbformat": 4,
 "nbformat_minor": 2
}
